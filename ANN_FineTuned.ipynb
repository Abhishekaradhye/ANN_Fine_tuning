{
 "cells": [
  {
   "cell_type": "code",
   "execution_count": 1,
   "metadata": {
    "_kg_hide-input": true,
    "_kg_hide-output": true,
    "execution": {
     "iopub.execute_input": "2022-02-22T20:56:06.380702Z",
     "iopub.status.busy": "2022-02-22T20:56:06.379954Z",
     "iopub.status.idle": "2022-02-22T20:56:07.269342Z",
     "shell.execute_reply": "2022-02-22T20:56:07.268506Z",
     "shell.execute_reply.started": "2022-02-22T20:45:26.369025Z"
    },
    "executionInfo": {
     "elapsed": 1735,
     "status": "ok",
     "timestamp": 1681870132816,
     "user": {
      "displayName": "Piyush Sharma",
      "userId": "11302676068023863188"
     },
     "user_tz": -330
    },
    "id": "K2v2ctSeDE6s",
    "papermill": {
     "duration": 0.936175,
     "end_time": "2022-02-22T20:56:07.269482",
     "exception": false,
     "start_time": "2022-02-22T20:56:06.333307",
     "status": "completed"
    },
    "tags": []
   },
   "outputs": [],
   "source": [
    "# Importing libraries\n",
    "import pandas as pd\n",
    "import numpy as np\n",
    "import logging\n",
    "import matplotlib.pyplot as plt\n",
    "import seaborn as sns\n",
    "from sklearn.preprocessing import StandardScaler\n",
    "from time import time\n",
    "import datetime\n",
    "from sklearn.model_selection import train_test_split\n",
    "from sklearn.preprocessing import StandardScaler, OneHotEncoder\n",
    "from sklearn.linear_model import LogisticRegression\n",
    "from sklearn.metrics import r2_score, mean_squared_error\n",
    "\n",
    "logging.basicConfig(format='%(asctime)s : %(levelname)s : %(message)s', level=logging.INFO)\n",
    "pd.options.mode.chained_assignment= None #avoid unnecessary warnings"
   ]
  },
  {
   "cell_type": "code",
   "execution_count": 3,
   "metadata": {
    "_cell_guid": "79c7e3d0-c299-4dcb-8224-4455121ee9b0",
    "_uuid": "d629ff2d2480ee46fbb7e2d37f6b5fab8052498a",
    "colab": {
     "base_uri": "https://localhost:8080/",
     "height": 317
    },
    "execution": {
     "iopub.execute_input": "2022-02-22T20:56:07.439685Z",
     "iopub.status.busy": "2022-02-22T20:56:07.439049Z",
     "iopub.status.idle": "2022-02-22T20:56:07.548818Z",
     "shell.execute_reply": "2022-02-22T20:56:07.549341Z",
     "shell.execute_reply.started": "2022-02-22T20:45:26.408161Z"
    },
    "executionInfo": {
     "elapsed": 1092,
     "status": "ok",
     "timestamp": 1681870183377,
     "user": {
      "displayName": "Piyush Sharma",
      "userId": "11302676068023863188"
     },
     "user_tz": -330
    },
    "id": "loWLaICeDE6u",
    "outputId": "c4ef2b4c-ba07-41a3-8ee3-7d54151857c2",
    "papermill": {
     "duration": 0.155664,
     "end_time": "2022-02-22T20:56:07.549499",
     "exception": false,
     "start_time": "2022-02-22T20:56:07.393835",
     "status": "completed"
    },
    "tags": []
   },
   "outputs": [
    {
     "name": "stdout",
     "output_type": "stream",
     "text": [
      "(1460, 81)\n"
     ]
    },
    {
     "data": {
      "text/html": [
       "\n",
       "  <div id=\"df-922b0c76-e562-4173-9abf-522228fdf8e3\">\n",
       "    <div class=\"colab-df-container\">\n",
       "      <div>\n",
       "<style scoped>\n",
       "    .dataframe tbody tr th:only-of-type {\n",
       "        vertical-align: middle;\n",
       "    }\n",
       "\n",
       "    .dataframe tbody tr th {\n",
       "        vertical-align: top;\n",
       "    }\n",
       "\n",
       "    .dataframe thead th {\n",
       "        text-align: right;\n",
       "    }\n",
       "</style>\n",
       "<table border=\"1\" class=\"dataframe\">\n",
       "  <thead>\n",
       "    <tr style=\"text-align: right;\">\n",
       "      <th></th>\n",
       "      <th>Id</th>\n",
       "      <th>MSSubClass</th>\n",
       "      <th>MSZoning</th>\n",
       "      <th>LotFrontage</th>\n",
       "      <th>LotArea</th>\n",
       "      <th>Street</th>\n",
       "      <th>Alley</th>\n",
       "      <th>LotShape</th>\n",
       "      <th>LandContour</th>\n",
       "      <th>Utilities</th>\n",
       "      <th>...</th>\n",
       "      <th>PoolArea</th>\n",
       "      <th>PoolQC</th>\n",
       "      <th>Fence</th>\n",
       "      <th>MiscFeature</th>\n",
       "      <th>MiscVal</th>\n",
       "      <th>MoSold</th>\n",
       "      <th>YrSold</th>\n",
       "      <th>SaleType</th>\n",
       "      <th>SaleCondition</th>\n",
       "      <th>SalePrice</th>\n",
       "    </tr>\n",
       "  </thead>\n",
       "  <tbody>\n",
       "    <tr>\n",
       "      <th>0</th>\n",
       "      <td>1</td>\n",
       "      <td>60</td>\n",
       "      <td>RL</td>\n",
       "      <td>65.0</td>\n",
       "      <td>8450</td>\n",
       "      <td>Pave</td>\n",
       "      <td>NaN</td>\n",
       "      <td>Reg</td>\n",
       "      <td>Lvl</td>\n",
       "      <td>AllPub</td>\n",
       "      <td>...</td>\n",
       "      <td>0</td>\n",
       "      <td>NaN</td>\n",
       "      <td>NaN</td>\n",
       "      <td>NaN</td>\n",
       "      <td>0</td>\n",
       "      <td>2</td>\n",
       "      <td>2008</td>\n",
       "      <td>WD</td>\n",
       "      <td>Normal</td>\n",
       "      <td>208500</td>\n",
       "    </tr>\n",
       "    <tr>\n",
       "      <th>1</th>\n",
       "      <td>2</td>\n",
       "      <td>20</td>\n",
       "      <td>RL</td>\n",
       "      <td>80.0</td>\n",
       "      <td>9600</td>\n",
       "      <td>Pave</td>\n",
       "      <td>NaN</td>\n",
       "      <td>Reg</td>\n",
       "      <td>Lvl</td>\n",
       "      <td>AllPub</td>\n",
       "      <td>...</td>\n",
       "      <td>0</td>\n",
       "      <td>NaN</td>\n",
       "      <td>NaN</td>\n",
       "      <td>NaN</td>\n",
       "      <td>0</td>\n",
       "      <td>5</td>\n",
       "      <td>2007</td>\n",
       "      <td>WD</td>\n",
       "      <td>Normal</td>\n",
       "      <td>181500</td>\n",
       "    </tr>\n",
       "    <tr>\n",
       "      <th>2</th>\n",
       "      <td>3</td>\n",
       "      <td>60</td>\n",
       "      <td>RL</td>\n",
       "      <td>68.0</td>\n",
       "      <td>11250</td>\n",
       "      <td>Pave</td>\n",
       "      <td>NaN</td>\n",
       "      <td>IR1</td>\n",
       "      <td>Lvl</td>\n",
       "      <td>AllPub</td>\n",
       "      <td>...</td>\n",
       "      <td>0</td>\n",
       "      <td>NaN</td>\n",
       "      <td>NaN</td>\n",
       "      <td>NaN</td>\n",
       "      <td>0</td>\n",
       "      <td>9</td>\n",
       "      <td>2008</td>\n",
       "      <td>WD</td>\n",
       "      <td>Normal</td>\n",
       "      <td>223500</td>\n",
       "    </tr>\n",
       "    <tr>\n",
       "      <th>3</th>\n",
       "      <td>4</td>\n",
       "      <td>70</td>\n",
       "      <td>RL</td>\n",
       "      <td>60.0</td>\n",
       "      <td>9550</td>\n",
       "      <td>Pave</td>\n",
       "      <td>NaN</td>\n",
       "      <td>IR1</td>\n",
       "      <td>Lvl</td>\n",
       "      <td>AllPub</td>\n",
       "      <td>...</td>\n",
       "      <td>0</td>\n",
       "      <td>NaN</td>\n",
       "      <td>NaN</td>\n",
       "      <td>NaN</td>\n",
       "      <td>0</td>\n",
       "      <td>2</td>\n",
       "      <td>2006</td>\n",
       "      <td>WD</td>\n",
       "      <td>Abnorml</td>\n",
       "      <td>140000</td>\n",
       "    </tr>\n",
       "    <tr>\n",
       "      <th>4</th>\n",
       "      <td>5</td>\n",
       "      <td>60</td>\n",
       "      <td>RL</td>\n",
       "      <td>84.0</td>\n",
       "      <td>14260</td>\n",
       "      <td>Pave</td>\n",
       "      <td>NaN</td>\n",
       "      <td>IR1</td>\n",
       "      <td>Lvl</td>\n",
       "      <td>AllPub</td>\n",
       "      <td>...</td>\n",
       "      <td>0</td>\n",
       "      <td>NaN</td>\n",
       "      <td>NaN</td>\n",
       "      <td>NaN</td>\n",
       "      <td>0</td>\n",
       "      <td>12</td>\n",
       "      <td>2008</td>\n",
       "      <td>WD</td>\n",
       "      <td>Normal</td>\n",
       "      <td>250000</td>\n",
       "    </tr>\n",
       "  </tbody>\n",
       "</table>\n",
       "<p>5 rows × 81 columns</p>\n",
       "</div>\n",
       "      <button class=\"colab-df-convert\" onclick=\"convertToInteractive('df-922b0c76-e562-4173-9abf-522228fdf8e3')\"\n",
       "              title=\"Convert this dataframe to an interactive table.\"\n",
       "              style=\"display:none;\">\n",
       "        \n",
       "  <svg xmlns=\"http://www.w3.org/2000/svg\" height=\"24px\"viewBox=\"0 0 24 24\"\n",
       "       width=\"24px\">\n",
       "    <path d=\"M0 0h24v24H0V0z\" fill=\"none\"/>\n",
       "    <path d=\"M18.56 5.44l.94 2.06.94-2.06 2.06-.94-2.06-.94-.94-2.06-.94 2.06-2.06.94zm-11 1L8.5 8.5l.94-2.06 2.06-.94-2.06-.94L8.5 2.5l-.94 2.06-2.06.94zm10 10l.94 2.06.94-2.06 2.06-.94-2.06-.94-.94-2.06-.94 2.06-2.06.94z\"/><path d=\"M17.41 7.96l-1.37-1.37c-.4-.4-.92-.59-1.43-.59-.52 0-1.04.2-1.43.59L10.3 9.45l-7.72 7.72c-.78.78-.78 2.05 0 2.83L4 21.41c.39.39.9.59 1.41.59.51 0 1.02-.2 1.41-.59l7.78-7.78 2.81-2.81c.8-.78.8-2.07 0-2.86zM5.41 20L4 18.59l7.72-7.72 1.47 1.35L5.41 20z\"/>\n",
       "  </svg>\n",
       "      </button>\n",
       "      \n",
       "  <style>\n",
       "    .colab-df-container {\n",
       "      display:flex;\n",
       "      flex-wrap:wrap;\n",
       "      gap: 12px;\n",
       "    }\n",
       "\n",
       "    .colab-df-convert {\n",
       "      background-color: #E8F0FE;\n",
       "      border: none;\n",
       "      border-radius: 50%;\n",
       "      cursor: pointer;\n",
       "      display: none;\n",
       "      fill: #1967D2;\n",
       "      height: 32px;\n",
       "      padding: 0 0 0 0;\n",
       "      width: 32px;\n",
       "    }\n",
       "\n",
       "    .colab-df-convert:hover {\n",
       "      background-color: #E2EBFA;\n",
       "      box-shadow: 0px 1px 2px rgba(60, 64, 67, 0.3), 0px 1px 3px 1px rgba(60, 64, 67, 0.15);\n",
       "      fill: #174EA6;\n",
       "    }\n",
       "\n",
       "    [theme=dark] .colab-df-convert {\n",
       "      background-color: #3B4455;\n",
       "      fill: #D2E3FC;\n",
       "    }\n",
       "\n",
       "    [theme=dark] .colab-df-convert:hover {\n",
       "      background-color: #434B5C;\n",
       "      box-shadow: 0px 1px 3px 1px rgba(0, 0, 0, 0.15);\n",
       "      filter: drop-shadow(0px 1px 2px rgba(0, 0, 0, 0.3));\n",
       "      fill: #FFFFFF;\n",
       "    }\n",
       "  </style>\n",
       "\n",
       "      <script>\n",
       "        const buttonEl =\n",
       "          document.querySelector('#df-922b0c76-e562-4173-9abf-522228fdf8e3 button.colab-df-convert');\n",
       "        buttonEl.style.display =\n",
       "          google.colab.kernel.accessAllowed ? 'block' : 'none';\n",
       "\n",
       "        async function convertToInteractive(key) {\n",
       "          const element = document.querySelector('#df-922b0c76-e562-4173-9abf-522228fdf8e3');\n",
       "          const dataTable =\n",
       "            await google.colab.kernel.invokeFunction('convertToInteractive',\n",
       "                                                     [key], {});\n",
       "          if (!dataTable) return;\n",
       "\n",
       "          const docLinkHtml = 'Like what you see? Visit the ' +\n",
       "            '<a target=\"_blank\" href=https://colab.research.google.com/notebooks/data_table.ipynb>data table notebook</a>'\n",
       "            + ' to learn more about interactive tables.';\n",
       "          element.innerHTML = '';\n",
       "          dataTable['output_type'] = 'display_data';\n",
       "          await google.colab.output.renderOutput(dataTable, element);\n",
       "          const docLink = document.createElement('div');\n",
       "          docLink.innerHTML = docLinkHtml;\n",
       "          element.appendChild(docLink);\n",
       "        }\n",
       "      </script>\n",
       "    </div>\n",
       "  </div>\n",
       "  "
      ],
      "text/plain": [
       "   Id  MSSubClass MSZoning  LotFrontage  LotArea Street Alley LotShape  \\\n",
       "0   1          60       RL         65.0     8450   Pave   NaN      Reg   \n",
       "1   2          20       RL         80.0     9600   Pave   NaN      Reg   \n",
       "2   3          60       RL         68.0    11250   Pave   NaN      IR1   \n",
       "3   4          70       RL         60.0     9550   Pave   NaN      IR1   \n",
       "4   5          60       RL         84.0    14260   Pave   NaN      IR1   \n",
       "\n",
       "  LandContour Utilities  ... PoolArea PoolQC Fence MiscFeature MiscVal MoSold  \\\n",
       "0         Lvl    AllPub  ...        0    NaN   NaN         NaN       0      2   \n",
       "1         Lvl    AllPub  ...        0    NaN   NaN         NaN       0      5   \n",
       "2         Lvl    AllPub  ...        0    NaN   NaN         NaN       0      9   \n",
       "3         Lvl    AllPub  ...        0    NaN   NaN         NaN       0      2   \n",
       "4         Lvl    AllPub  ...        0    NaN   NaN         NaN       0     12   \n",
       "\n",
       "  YrSold  SaleType  SaleCondition  SalePrice  \n",
       "0   2008        WD         Normal     208500  \n",
       "1   2007        WD         Normal     181500  \n",
       "2   2008        WD         Normal     223500  \n",
       "3   2006        WD        Abnorml     140000  \n",
       "4   2008        WD         Normal     250000  \n",
       "\n",
       "[5 rows x 81 columns]"
      ]
     },
     "execution_count": 3,
     "metadata": {},
     "output_type": "execute_result"
    }
   ],
   "source": [
    "# Importing data\n",
    "\n",
    "df= pd.read_csv('/content/drive/MyDrive/Deep Learning/Keras_FineTuner/train.csv')\n",
    "print(df.shape)\n",
    "df.head()"
   ]
  },
  {
   "cell_type": "markdown",
   "metadata": {
    "id": "KguvgoMFDE6v",
    "papermill": {
     "duration": 0.039601,
     "end_time": "2022-02-22T20:56:07.633371",
     "exception": false,
     "start_time": "2022-02-22T20:56:07.593770",
     "status": "completed"
    },
    "tags": []
   },
   "source": [
    "## Data Preprocessing"
   ]
  },
  {
   "cell_type": "code",
   "execution_count": 4,
   "metadata": {
    "colab": {
     "base_uri": "https://localhost:8080/"
    },
    "execution": {
     "iopub.execute_input": "2022-02-22T20:56:07.826445Z",
     "iopub.status.busy": "2022-02-22T20:56:07.825623Z",
     "iopub.status.idle": "2022-02-22T20:56:07.851692Z",
     "shell.execute_reply": "2022-02-22T20:56:07.851010Z",
     "shell.execute_reply.started": "2022-02-22T20:45:26.674659Z"
    },
    "executionInfo": {
     "elapsed": 413,
     "status": "ok",
     "timestamp": 1681870201718,
     "user": {
      "displayName": "Piyush Sharma",
      "userId": "11302676068023863188"
     },
     "user_tz": -330
    },
    "id": "yHNSkup9DE6w",
    "outputId": "d67208bc-5117-4c84-c7b6-b864993ad207",
    "papermill": {
     "duration": 0.082535,
     "end_time": "2022-02-22T20:56:07.851823",
     "exception": false,
     "start_time": "2022-02-22T20:56:07.769288",
     "status": "completed"
    },
    "tags": []
   },
   "outputs": [
    {
     "name": "stdout",
     "output_type": "stream",
     "text": [
      "(1460, 77) (1460, 75) (1460,)\n"
     ]
    }
   ],
   "source": [
    "# 1. Excluding columns which have majority as null\n",
    "df= df.loc[:, df.isnull().sum()/len(df)<0.80]\n",
    "\n",
    "x= df.iloc[:, 1:-1] # Dropping 'Id' and the Y feature\n",
    "y= df.iloc[:,-1]\n",
    "\n",
    "train_cols= x.columns\n",
    "print(df.shape, x.shape, y.shape)"
   ]
  },
  {
   "cell_type": "code",
   "execution_count": 5,
   "metadata": {
    "colab": {
     "base_uri": "https://localhost:8080/",
     "height": 1000
    },
    "execution": {
     "iopub.execute_input": "2022-02-22T20:56:07.949949Z",
     "iopub.status.busy": "2022-02-22T20:56:07.948821Z",
     "iopub.status.idle": "2022-02-22T20:56:08.053892Z",
     "shell.execute_reply": "2022-02-22T20:56:08.053318Z",
     "shell.execute_reply.started": "2022-02-22T20:45:26.736479Z"
    },
    "executionInfo": {
     "elapsed": 904,
     "status": "ok",
     "timestamp": 1681870303046,
     "user": {
      "displayName": "Piyush Sharma",
      "userId": "11302676068023863188"
     },
     "user_tz": -330
    },
    "id": "gGAWC5WdDE6w",
    "outputId": "404abac6-0a34-4f2f-fb25-5b7f2d553000",
    "papermill": {
     "duration": 0.159423,
     "end_time": "2022-02-22T20:56:08.054003",
     "exception": false,
     "start_time": "2022-02-22T20:56:07.894580",
     "status": "completed"
    },
    "tags": []
   },
   "outputs": [
    {
     "data": {
      "text/html": [
       "\n",
       "  <div id=\"df-aa6fd691-cf6a-4207-93bf-4eaefd9d6504\">\n",
       "    <div class=\"colab-df-container\">\n",
       "      <div>\n",
       "<style scoped>\n",
       "    .dataframe tbody tr th:only-of-type {\n",
       "        vertical-align: middle;\n",
       "    }\n",
       "\n",
       "    .dataframe tbody tr th {\n",
       "        vertical-align: top;\n",
       "    }\n",
       "\n",
       "    .dataframe thead th {\n",
       "        text-align: right;\n",
       "    }\n",
       "</style>\n",
       "<table border=\"1\" class=\"dataframe\">\n",
       "  <thead>\n",
       "    <tr style=\"text-align: right;\">\n",
       "      <th></th>\n",
       "      <th>count</th>\n",
       "      <th>mean</th>\n",
       "      <th>std</th>\n",
       "      <th>min</th>\n",
       "      <th>25%</th>\n",
       "      <th>50%</th>\n",
       "      <th>75%</th>\n",
       "      <th>max</th>\n",
       "    </tr>\n",
       "  </thead>\n",
       "  <tbody>\n",
       "    <tr>\n",
       "      <th>MSSubClass</th>\n",
       "      <td>1460.0</td>\n",
       "      <td>56.897260</td>\n",
       "      <td>42.300571</td>\n",
       "      <td>20.0</td>\n",
       "      <td>20.00</td>\n",
       "      <td>50.0</td>\n",
       "      <td>70.00</td>\n",
       "      <td>190.0</td>\n",
       "    </tr>\n",
       "    <tr>\n",
       "      <th>LotFrontage</th>\n",
       "      <td>1201.0</td>\n",
       "      <td>70.049958</td>\n",
       "      <td>24.284752</td>\n",
       "      <td>21.0</td>\n",
       "      <td>59.00</td>\n",
       "      <td>69.0</td>\n",
       "      <td>80.00</td>\n",
       "      <td>313.0</td>\n",
       "    </tr>\n",
       "    <tr>\n",
       "      <th>LotArea</th>\n",
       "      <td>1460.0</td>\n",
       "      <td>10516.828082</td>\n",
       "      <td>9981.264932</td>\n",
       "      <td>1300.0</td>\n",
       "      <td>7553.50</td>\n",
       "      <td>9478.5</td>\n",
       "      <td>11601.50</td>\n",
       "      <td>215245.0</td>\n",
       "    </tr>\n",
       "    <tr>\n",
       "      <th>OverallQual</th>\n",
       "      <td>1460.0</td>\n",
       "      <td>6.099315</td>\n",
       "      <td>1.382997</td>\n",
       "      <td>1.0</td>\n",
       "      <td>5.00</td>\n",
       "      <td>6.0</td>\n",
       "      <td>7.00</td>\n",
       "      <td>10.0</td>\n",
       "    </tr>\n",
       "    <tr>\n",
       "      <th>OverallCond</th>\n",
       "      <td>1460.0</td>\n",
       "      <td>5.575342</td>\n",
       "      <td>1.112799</td>\n",
       "      <td>1.0</td>\n",
       "      <td>5.00</td>\n",
       "      <td>5.0</td>\n",
       "      <td>6.00</td>\n",
       "      <td>9.0</td>\n",
       "    </tr>\n",
       "    <tr>\n",
       "      <th>YearBuilt</th>\n",
       "      <td>1460.0</td>\n",
       "      <td>1971.267808</td>\n",
       "      <td>30.202904</td>\n",
       "      <td>1872.0</td>\n",
       "      <td>1954.00</td>\n",
       "      <td>1973.0</td>\n",
       "      <td>2000.00</td>\n",
       "      <td>2010.0</td>\n",
       "    </tr>\n",
       "    <tr>\n",
       "      <th>YearRemodAdd</th>\n",
       "      <td>1460.0</td>\n",
       "      <td>1984.865753</td>\n",
       "      <td>20.645407</td>\n",
       "      <td>1950.0</td>\n",
       "      <td>1967.00</td>\n",
       "      <td>1994.0</td>\n",
       "      <td>2004.00</td>\n",
       "      <td>2010.0</td>\n",
       "    </tr>\n",
       "    <tr>\n",
       "      <th>MasVnrArea</th>\n",
       "      <td>1452.0</td>\n",
       "      <td>103.685262</td>\n",
       "      <td>181.066207</td>\n",
       "      <td>0.0</td>\n",
       "      <td>0.00</td>\n",
       "      <td>0.0</td>\n",
       "      <td>166.00</td>\n",
       "      <td>1600.0</td>\n",
       "    </tr>\n",
       "    <tr>\n",
       "      <th>BsmtFinSF1</th>\n",
       "      <td>1460.0</td>\n",
       "      <td>443.639726</td>\n",
       "      <td>456.098091</td>\n",
       "      <td>0.0</td>\n",
       "      <td>0.00</td>\n",
       "      <td>383.5</td>\n",
       "      <td>712.25</td>\n",
       "      <td>5644.0</td>\n",
       "    </tr>\n",
       "    <tr>\n",
       "      <th>BsmtFinSF2</th>\n",
       "      <td>1460.0</td>\n",
       "      <td>46.549315</td>\n",
       "      <td>161.319273</td>\n",
       "      <td>0.0</td>\n",
       "      <td>0.00</td>\n",
       "      <td>0.0</td>\n",
       "      <td>0.00</td>\n",
       "      <td>1474.0</td>\n",
       "    </tr>\n",
       "    <tr>\n",
       "      <th>BsmtUnfSF</th>\n",
       "      <td>1460.0</td>\n",
       "      <td>567.240411</td>\n",
       "      <td>441.866955</td>\n",
       "      <td>0.0</td>\n",
       "      <td>223.00</td>\n",
       "      <td>477.5</td>\n",
       "      <td>808.00</td>\n",
       "      <td>2336.0</td>\n",
       "    </tr>\n",
       "    <tr>\n",
       "      <th>TotalBsmtSF</th>\n",
       "      <td>1460.0</td>\n",
       "      <td>1057.429452</td>\n",
       "      <td>438.705324</td>\n",
       "      <td>0.0</td>\n",
       "      <td>795.75</td>\n",
       "      <td>991.5</td>\n",
       "      <td>1298.25</td>\n",
       "      <td>6110.0</td>\n",
       "    </tr>\n",
       "    <tr>\n",
       "      <th>1stFlrSF</th>\n",
       "      <td>1460.0</td>\n",
       "      <td>1162.626712</td>\n",
       "      <td>386.587738</td>\n",
       "      <td>334.0</td>\n",
       "      <td>882.00</td>\n",
       "      <td>1087.0</td>\n",
       "      <td>1391.25</td>\n",
       "      <td>4692.0</td>\n",
       "    </tr>\n",
       "    <tr>\n",
       "      <th>2ndFlrSF</th>\n",
       "      <td>1460.0</td>\n",
       "      <td>346.992466</td>\n",
       "      <td>436.528436</td>\n",
       "      <td>0.0</td>\n",
       "      <td>0.00</td>\n",
       "      <td>0.0</td>\n",
       "      <td>728.00</td>\n",
       "      <td>2065.0</td>\n",
       "    </tr>\n",
       "    <tr>\n",
       "      <th>LowQualFinSF</th>\n",
       "      <td>1460.0</td>\n",
       "      <td>5.844521</td>\n",
       "      <td>48.623081</td>\n",
       "      <td>0.0</td>\n",
       "      <td>0.00</td>\n",
       "      <td>0.0</td>\n",
       "      <td>0.00</td>\n",
       "      <td>572.0</td>\n",
       "    </tr>\n",
       "    <tr>\n",
       "      <th>GrLivArea</th>\n",
       "      <td>1460.0</td>\n",
       "      <td>1515.463699</td>\n",
       "      <td>525.480383</td>\n",
       "      <td>334.0</td>\n",
       "      <td>1129.50</td>\n",
       "      <td>1464.0</td>\n",
       "      <td>1776.75</td>\n",
       "      <td>5642.0</td>\n",
       "    </tr>\n",
       "    <tr>\n",
       "      <th>BsmtFullBath</th>\n",
       "      <td>1460.0</td>\n",
       "      <td>0.425342</td>\n",
       "      <td>0.518911</td>\n",
       "      <td>0.0</td>\n",
       "      <td>0.00</td>\n",
       "      <td>0.0</td>\n",
       "      <td>1.00</td>\n",
       "      <td>3.0</td>\n",
       "    </tr>\n",
       "    <tr>\n",
       "      <th>BsmtHalfBath</th>\n",
       "      <td>1460.0</td>\n",
       "      <td>0.057534</td>\n",
       "      <td>0.238753</td>\n",
       "      <td>0.0</td>\n",
       "      <td>0.00</td>\n",
       "      <td>0.0</td>\n",
       "      <td>0.00</td>\n",
       "      <td>2.0</td>\n",
       "    </tr>\n",
       "    <tr>\n",
       "      <th>FullBath</th>\n",
       "      <td>1460.0</td>\n",
       "      <td>1.565068</td>\n",
       "      <td>0.550916</td>\n",
       "      <td>0.0</td>\n",
       "      <td>1.00</td>\n",
       "      <td>2.0</td>\n",
       "      <td>2.00</td>\n",
       "      <td>3.0</td>\n",
       "    </tr>\n",
       "    <tr>\n",
       "      <th>HalfBath</th>\n",
       "      <td>1460.0</td>\n",
       "      <td>0.382877</td>\n",
       "      <td>0.502885</td>\n",
       "      <td>0.0</td>\n",
       "      <td>0.00</td>\n",
       "      <td>0.0</td>\n",
       "      <td>1.00</td>\n",
       "      <td>2.0</td>\n",
       "    </tr>\n",
       "    <tr>\n",
       "      <th>BedroomAbvGr</th>\n",
       "      <td>1460.0</td>\n",
       "      <td>2.866438</td>\n",
       "      <td>0.815778</td>\n",
       "      <td>0.0</td>\n",
       "      <td>2.00</td>\n",
       "      <td>3.0</td>\n",
       "      <td>3.00</td>\n",
       "      <td>8.0</td>\n",
       "    </tr>\n",
       "    <tr>\n",
       "      <th>KitchenAbvGr</th>\n",
       "      <td>1460.0</td>\n",
       "      <td>1.046575</td>\n",
       "      <td>0.220338</td>\n",
       "      <td>0.0</td>\n",
       "      <td>1.00</td>\n",
       "      <td>1.0</td>\n",
       "      <td>1.00</td>\n",
       "      <td>3.0</td>\n",
       "    </tr>\n",
       "    <tr>\n",
       "      <th>TotRmsAbvGrd</th>\n",
       "      <td>1460.0</td>\n",
       "      <td>6.517808</td>\n",
       "      <td>1.625393</td>\n",
       "      <td>2.0</td>\n",
       "      <td>5.00</td>\n",
       "      <td>6.0</td>\n",
       "      <td>7.00</td>\n",
       "      <td>14.0</td>\n",
       "    </tr>\n",
       "    <tr>\n",
       "      <th>Fireplaces</th>\n",
       "      <td>1460.0</td>\n",
       "      <td>0.613014</td>\n",
       "      <td>0.644666</td>\n",
       "      <td>0.0</td>\n",
       "      <td>0.00</td>\n",
       "      <td>1.0</td>\n",
       "      <td>1.00</td>\n",
       "      <td>3.0</td>\n",
       "    </tr>\n",
       "    <tr>\n",
       "      <th>GarageYrBlt</th>\n",
       "      <td>1379.0</td>\n",
       "      <td>1978.506164</td>\n",
       "      <td>24.689725</td>\n",
       "      <td>1900.0</td>\n",
       "      <td>1961.00</td>\n",
       "      <td>1980.0</td>\n",
       "      <td>2002.00</td>\n",
       "      <td>2010.0</td>\n",
       "    </tr>\n",
       "    <tr>\n",
       "      <th>GarageCars</th>\n",
       "      <td>1460.0</td>\n",
       "      <td>1.767123</td>\n",
       "      <td>0.747315</td>\n",
       "      <td>0.0</td>\n",
       "      <td>1.00</td>\n",
       "      <td>2.0</td>\n",
       "      <td>2.00</td>\n",
       "      <td>4.0</td>\n",
       "    </tr>\n",
       "    <tr>\n",
       "      <th>GarageArea</th>\n",
       "      <td>1460.0</td>\n",
       "      <td>472.980137</td>\n",
       "      <td>213.804841</td>\n",
       "      <td>0.0</td>\n",
       "      <td>334.50</td>\n",
       "      <td>480.0</td>\n",
       "      <td>576.00</td>\n",
       "      <td>1418.0</td>\n",
       "    </tr>\n",
       "    <tr>\n",
       "      <th>WoodDeckSF</th>\n",
       "      <td>1460.0</td>\n",
       "      <td>94.244521</td>\n",
       "      <td>125.338794</td>\n",
       "      <td>0.0</td>\n",
       "      <td>0.00</td>\n",
       "      <td>0.0</td>\n",
       "      <td>168.00</td>\n",
       "      <td>857.0</td>\n",
       "    </tr>\n",
       "    <tr>\n",
       "      <th>OpenPorchSF</th>\n",
       "      <td>1460.0</td>\n",
       "      <td>46.660274</td>\n",
       "      <td>66.256028</td>\n",
       "      <td>0.0</td>\n",
       "      <td>0.00</td>\n",
       "      <td>25.0</td>\n",
       "      <td>68.00</td>\n",
       "      <td>547.0</td>\n",
       "    </tr>\n",
       "    <tr>\n",
       "      <th>EnclosedPorch</th>\n",
       "      <td>1460.0</td>\n",
       "      <td>21.954110</td>\n",
       "      <td>61.119149</td>\n",
       "      <td>0.0</td>\n",
       "      <td>0.00</td>\n",
       "      <td>0.0</td>\n",
       "      <td>0.00</td>\n",
       "      <td>552.0</td>\n",
       "    </tr>\n",
       "    <tr>\n",
       "      <th>3SsnPorch</th>\n",
       "      <td>1460.0</td>\n",
       "      <td>3.409589</td>\n",
       "      <td>29.317331</td>\n",
       "      <td>0.0</td>\n",
       "      <td>0.00</td>\n",
       "      <td>0.0</td>\n",
       "      <td>0.00</td>\n",
       "      <td>508.0</td>\n",
       "    </tr>\n",
       "    <tr>\n",
       "      <th>ScreenPorch</th>\n",
       "      <td>1460.0</td>\n",
       "      <td>15.060959</td>\n",
       "      <td>55.757415</td>\n",
       "      <td>0.0</td>\n",
       "      <td>0.00</td>\n",
       "      <td>0.0</td>\n",
       "      <td>0.00</td>\n",
       "      <td>480.0</td>\n",
       "    </tr>\n",
       "    <tr>\n",
       "      <th>PoolArea</th>\n",
       "      <td>1460.0</td>\n",
       "      <td>2.758904</td>\n",
       "      <td>40.177307</td>\n",
       "      <td>0.0</td>\n",
       "      <td>0.00</td>\n",
       "      <td>0.0</td>\n",
       "      <td>0.00</td>\n",
       "      <td>738.0</td>\n",
       "    </tr>\n",
       "    <tr>\n",
       "      <th>MiscVal</th>\n",
       "      <td>1460.0</td>\n",
       "      <td>43.489041</td>\n",
       "      <td>496.123024</td>\n",
       "      <td>0.0</td>\n",
       "      <td>0.00</td>\n",
       "      <td>0.0</td>\n",
       "      <td>0.00</td>\n",
       "      <td>15500.0</td>\n",
       "    </tr>\n",
       "    <tr>\n",
       "      <th>MoSold</th>\n",
       "      <td>1460.0</td>\n",
       "      <td>6.321918</td>\n",
       "      <td>2.703626</td>\n",
       "      <td>1.0</td>\n",
       "      <td>5.00</td>\n",
       "      <td>6.0</td>\n",
       "      <td>8.00</td>\n",
       "      <td>12.0</td>\n",
       "    </tr>\n",
       "    <tr>\n",
       "      <th>YrSold</th>\n",
       "      <td>1460.0</td>\n",
       "      <td>2007.815753</td>\n",
       "      <td>1.328095</td>\n",
       "      <td>2006.0</td>\n",
       "      <td>2007.00</td>\n",
       "      <td>2008.0</td>\n",
       "      <td>2009.00</td>\n",
       "      <td>2010.0</td>\n",
       "    </tr>\n",
       "  </tbody>\n",
       "</table>\n",
       "</div>\n",
       "      <button class=\"colab-df-convert\" onclick=\"convertToInteractive('df-aa6fd691-cf6a-4207-93bf-4eaefd9d6504')\"\n",
       "              title=\"Convert this dataframe to an interactive table.\"\n",
       "              style=\"display:none;\">\n",
       "        \n",
       "  <svg xmlns=\"http://www.w3.org/2000/svg\" height=\"24px\"viewBox=\"0 0 24 24\"\n",
       "       width=\"24px\">\n",
       "    <path d=\"M0 0h24v24H0V0z\" fill=\"none\"/>\n",
       "    <path d=\"M18.56 5.44l.94 2.06.94-2.06 2.06-.94-2.06-.94-.94-2.06-.94 2.06-2.06.94zm-11 1L8.5 8.5l.94-2.06 2.06-.94-2.06-.94L8.5 2.5l-.94 2.06-2.06.94zm10 10l.94 2.06.94-2.06 2.06-.94-2.06-.94-.94-2.06-.94 2.06-2.06.94z\"/><path d=\"M17.41 7.96l-1.37-1.37c-.4-.4-.92-.59-1.43-.59-.52 0-1.04.2-1.43.59L10.3 9.45l-7.72 7.72c-.78.78-.78 2.05 0 2.83L4 21.41c.39.39.9.59 1.41.59.51 0 1.02-.2 1.41-.59l7.78-7.78 2.81-2.81c.8-.78.8-2.07 0-2.86zM5.41 20L4 18.59l7.72-7.72 1.47 1.35L5.41 20z\"/>\n",
       "  </svg>\n",
       "      </button>\n",
       "      \n",
       "  <style>\n",
       "    .colab-df-container {\n",
       "      display:flex;\n",
       "      flex-wrap:wrap;\n",
       "      gap: 12px;\n",
       "    }\n",
       "\n",
       "    .colab-df-convert {\n",
       "      background-color: #E8F0FE;\n",
       "      border: none;\n",
       "      border-radius: 50%;\n",
       "      cursor: pointer;\n",
       "      display: none;\n",
       "      fill: #1967D2;\n",
       "      height: 32px;\n",
       "      padding: 0 0 0 0;\n",
       "      width: 32px;\n",
       "    }\n",
       "\n",
       "    .colab-df-convert:hover {\n",
       "      background-color: #E2EBFA;\n",
       "      box-shadow: 0px 1px 2px rgba(60, 64, 67, 0.3), 0px 1px 3px 1px rgba(60, 64, 67, 0.15);\n",
       "      fill: #174EA6;\n",
       "    }\n",
       "\n",
       "    [theme=dark] .colab-df-convert {\n",
       "      background-color: #3B4455;\n",
       "      fill: #D2E3FC;\n",
       "    }\n",
       "\n",
       "    [theme=dark] .colab-df-convert:hover {\n",
       "      background-color: #434B5C;\n",
       "      box-shadow: 0px 1px 3px 1px rgba(0, 0, 0, 0.15);\n",
       "      filter: drop-shadow(0px 1px 2px rgba(0, 0, 0, 0.3));\n",
       "      fill: #FFFFFF;\n",
       "    }\n",
       "  </style>\n",
       "\n",
       "      <script>\n",
       "        const buttonEl =\n",
       "          document.querySelector('#df-aa6fd691-cf6a-4207-93bf-4eaefd9d6504 button.colab-df-convert');\n",
       "        buttonEl.style.display =\n",
       "          google.colab.kernel.accessAllowed ? 'block' : 'none';\n",
       "\n",
       "        async function convertToInteractive(key) {\n",
       "          const element = document.querySelector('#df-aa6fd691-cf6a-4207-93bf-4eaefd9d6504');\n",
       "          const dataTable =\n",
       "            await google.colab.kernel.invokeFunction('convertToInteractive',\n",
       "                                                     [key], {});\n",
       "          if (!dataTable) return;\n",
       "\n",
       "          const docLinkHtml = 'Like what you see? Visit the ' +\n",
       "            '<a target=\"_blank\" href=https://colab.research.google.com/notebooks/data_table.ipynb>data table notebook</a>'\n",
       "            + ' to learn more about interactive tables.';\n",
       "          element.innerHTML = '';\n",
       "          dataTable['output_type'] = 'display_data';\n",
       "          await google.colab.output.renderOutput(dataTable, element);\n",
       "          const docLink = document.createElement('div');\n",
       "          docLink.innerHTML = docLinkHtml;\n",
       "          element.appendChild(docLink);\n",
       "        }\n",
       "      </script>\n",
       "    </div>\n",
       "  </div>\n",
       "  "
      ],
      "text/plain": [
       "                count          mean          std     min      25%     50%  \\\n",
       "MSSubClass     1460.0     56.897260    42.300571    20.0    20.00    50.0   \n",
       "LotFrontage    1201.0     70.049958    24.284752    21.0    59.00    69.0   \n",
       "LotArea        1460.0  10516.828082  9981.264932  1300.0  7553.50  9478.5   \n",
       "OverallQual    1460.0      6.099315     1.382997     1.0     5.00     6.0   \n",
       "OverallCond    1460.0      5.575342     1.112799     1.0     5.00     5.0   \n",
       "YearBuilt      1460.0   1971.267808    30.202904  1872.0  1954.00  1973.0   \n",
       "YearRemodAdd   1460.0   1984.865753    20.645407  1950.0  1967.00  1994.0   \n",
       "MasVnrArea     1452.0    103.685262   181.066207     0.0     0.00     0.0   \n",
       "BsmtFinSF1     1460.0    443.639726   456.098091     0.0     0.00   383.5   \n",
       "BsmtFinSF2     1460.0     46.549315   161.319273     0.0     0.00     0.0   \n",
       "BsmtUnfSF      1460.0    567.240411   441.866955     0.0   223.00   477.5   \n",
       "TotalBsmtSF    1460.0   1057.429452   438.705324     0.0   795.75   991.5   \n",
       "1stFlrSF       1460.0   1162.626712   386.587738   334.0   882.00  1087.0   \n",
       "2ndFlrSF       1460.0    346.992466   436.528436     0.0     0.00     0.0   \n",
       "LowQualFinSF   1460.0      5.844521    48.623081     0.0     0.00     0.0   \n",
       "GrLivArea      1460.0   1515.463699   525.480383   334.0  1129.50  1464.0   \n",
       "BsmtFullBath   1460.0      0.425342     0.518911     0.0     0.00     0.0   \n",
       "BsmtHalfBath   1460.0      0.057534     0.238753     0.0     0.00     0.0   \n",
       "FullBath       1460.0      1.565068     0.550916     0.0     1.00     2.0   \n",
       "HalfBath       1460.0      0.382877     0.502885     0.0     0.00     0.0   \n",
       "BedroomAbvGr   1460.0      2.866438     0.815778     0.0     2.00     3.0   \n",
       "KitchenAbvGr   1460.0      1.046575     0.220338     0.0     1.00     1.0   \n",
       "TotRmsAbvGrd   1460.0      6.517808     1.625393     2.0     5.00     6.0   \n",
       "Fireplaces     1460.0      0.613014     0.644666     0.0     0.00     1.0   \n",
       "GarageYrBlt    1379.0   1978.506164    24.689725  1900.0  1961.00  1980.0   \n",
       "GarageCars     1460.0      1.767123     0.747315     0.0     1.00     2.0   \n",
       "GarageArea     1460.0    472.980137   213.804841     0.0   334.50   480.0   \n",
       "WoodDeckSF     1460.0     94.244521   125.338794     0.0     0.00     0.0   \n",
       "OpenPorchSF    1460.0     46.660274    66.256028     0.0     0.00    25.0   \n",
       "EnclosedPorch  1460.0     21.954110    61.119149     0.0     0.00     0.0   \n",
       "3SsnPorch      1460.0      3.409589    29.317331     0.0     0.00     0.0   \n",
       "ScreenPorch    1460.0     15.060959    55.757415     0.0     0.00     0.0   \n",
       "PoolArea       1460.0      2.758904    40.177307     0.0     0.00     0.0   \n",
       "MiscVal        1460.0     43.489041   496.123024     0.0     0.00     0.0   \n",
       "MoSold         1460.0      6.321918     2.703626     1.0     5.00     6.0   \n",
       "YrSold         1460.0   2007.815753     1.328095  2006.0  2007.00  2008.0   \n",
       "\n",
       "                    75%       max  \n",
       "MSSubClass        70.00     190.0  \n",
       "LotFrontage       80.00     313.0  \n",
       "LotArea        11601.50  215245.0  \n",
       "OverallQual        7.00      10.0  \n",
       "OverallCond        6.00       9.0  \n",
       "YearBuilt       2000.00    2010.0  \n",
       "YearRemodAdd    2004.00    2010.0  \n",
       "MasVnrArea       166.00    1600.0  \n",
       "BsmtFinSF1       712.25    5644.0  \n",
       "BsmtFinSF2         0.00    1474.0  \n",
       "BsmtUnfSF        808.00    2336.0  \n",
       "TotalBsmtSF     1298.25    6110.0  \n",
       "1stFlrSF        1391.25    4692.0  \n",
       "2ndFlrSF         728.00    2065.0  \n",
       "LowQualFinSF       0.00     572.0  \n",
       "GrLivArea       1776.75    5642.0  \n",
       "BsmtFullBath       1.00       3.0  \n",
       "BsmtHalfBath       0.00       2.0  \n",
       "FullBath           2.00       3.0  \n",
       "HalfBath           1.00       2.0  \n",
       "BedroomAbvGr       3.00       8.0  \n",
       "KitchenAbvGr       1.00       3.0  \n",
       "TotRmsAbvGrd       7.00      14.0  \n",
       "Fireplaces         1.00       3.0  \n",
       "GarageYrBlt     2002.00    2010.0  \n",
       "GarageCars         2.00       4.0  \n",
       "GarageArea       576.00    1418.0  \n",
       "WoodDeckSF       168.00     857.0  \n",
       "OpenPorchSF       68.00     547.0  \n",
       "EnclosedPorch      0.00     552.0  \n",
       "3SsnPorch          0.00     508.0  \n",
       "ScreenPorch        0.00     480.0  \n",
       "PoolArea           0.00     738.0  \n",
       "MiscVal            0.00   15500.0  \n",
       "MoSold             8.00      12.0  \n",
       "YrSold          2009.00    2010.0  "
      ]
     },
     "execution_count": 5,
     "metadata": {},
     "output_type": "execute_result"
    }
   ],
   "source": [
    "# 2. Looking at the Overall statistics of variables and correlation among all variables\n",
    "train_stats= x.describe().transpose()\n",
    "train_stats"
   ]
  },
  {
   "cell_type": "code",
   "execution_count": 6,
   "metadata": {
    "colab": {
     "base_uri": "https://localhost:8080/",
     "height": 904
    },
    "execution": {
     "iopub.execute_input": "2022-02-22T20:56:08.144525Z",
     "iopub.status.busy": "2022-02-22T20:56:08.143881Z",
     "iopub.status.idle": "2022-02-22T20:56:08.782778Z",
     "shell.execute_reply": "2022-02-22T20:56:08.783257Z",
     "shell.execute_reply.started": "2022-02-22T20:45:27.015140Z"
    },
    "executionInfo": {
     "elapsed": 2860,
     "status": "ok",
     "timestamp": 1681870313783,
     "user": {
      "displayName": "Piyush Sharma",
      "userId": "11302676068023863188"
     },
     "user_tz": -330
    },
    "id": "lCEOD2yRDE6w",
    "outputId": "e49e3a0e-a376-425c-d10b-e28a9e2f631e",
    "papermill": {
     "duration": 0.687688,
     "end_time": "2022-02-22T20:56:08.783388",
     "exception": false,
     "start_time": "2022-02-22T20:56:08.095700",
     "status": "completed"
    },
    "tags": []
   },
   "outputs": [
    {
     "name": "stderr",
     "output_type": "stream",
     "text": [
      "<ipython-input-6-ce4c899a73a9>:2: FutureWarning: The default value of numeric_only in DataFrame.corr is deprecated. In a future version, it will default to False. Select only valid columns or specify the value of numeric_only to silence this warning.\n",
      "  corrmat = df.corr()\n"
     ]
    },
    {
     "data": {
      "image/png": "[encoded data removed]",
      "text/plain": [
       "<Figure size 1200x900 with 2 Axes>"
      ]
     },
     "metadata": {},
     "output_type": "display_data"
    }
   ],
   "source": [
    "#correlation matrix\n",
    "corrmat = df.corr()\n",
    "f, ax = plt.subplots(figsize=(12, 9))\n",
    "# sns.heatmap(corrmat, vmax=.8, square=True)\n",
    "\n",
    "#saleprice correlation matrix\n",
    "k=10\n",
    "cols= corrmat.nlargest(k, 'SalePrice')['SalePrice'].index\n",
    "cm= np.corrcoef(df[cols].values.T)\n",
    "sns.set(font_scale=1.25)\n",
    "hm= sns.heatmap(cm, cbar=True, annot=True, square=True,\n",
    "                fmt='.2f', annot_kws={'size':10},\n",
    "                yticklabels=cols.values,\n",
    "                xticklabels=cols.values)\n",
    "plt.show()\n",
    "# Conclusion: OverallQual is highly correlated with the target variable."
   ]
  },
  {
   "cell_type": "markdown",
   "metadata": {
    "id": "QuI5LNZADE6x",
    "papermill": {
     "duration": 0.04292,
     "end_time": "2022-02-22T20:56:08.868998",
     "exception": false,
     "start_time": "2022-02-22T20:56:08.826078",
     "status": "completed"
    },
    "tags": []
   },
   "source": [
    "3. Division of different column type for different preprocessing and division between the train and test datasets"
   ]
  },
  {
   "cell_type": "code",
   "execution_count": 7,
   "metadata": {
    "colab": {
     "base_uri": "https://localhost:8080/"
    },
    "execution": {
     "iopub.execute_input": "2022-02-22T20:56:08.967267Z",
     "iopub.status.busy": "2022-02-22T20:56:08.965989Z",
     "iopub.status.idle": "2022-02-22T20:56:08.974879Z",
     "shell.execute_reply": "2022-02-22T20:56:08.974190Z",
     "shell.execute_reply.started": "2022-02-22T20:45:27.679100Z"
    },
    "executionInfo": {
     "elapsed": 370,
     "status": "ok",
     "timestamp": 1681870341809,
     "user": {
      "displayName": "Piyush Sharma",
      "userId": "11302676068023863188"
     },
     "user_tz": -330
    },
    "id": "Dh5MsbcMDE6x",
    "outputId": "6f575de9-ede6-4165-d4ae-39ecf9575b05",
    "papermill": {
     "duration": 0.061025,
     "end_time": "2022-02-22T20:56:08.975023",
     "exception": false,
     "start_time": "2022-02-22T20:56:08.913998",
     "status": "completed"
    },
    "tags": []
   },
   "outputs": [
    {
     "name": "stdout",
     "output_type": "stream",
     "text": [
      "ordinal/temporal columns:\n",
      " ['YearBuilt', 'YearRemodAdd', 'GarageYrBlt', 'YrSold']\n",
      "nominal columns:\n",
      " ['LotShape', 'MSZoning', 'PavedDrive', 'GarageCond', 'Heating', 'LandSlope', 'LandContour', 'Condition2', 'BsmtCond', 'SaleCondition', 'RoofMatl', 'MasVnrType', 'ExterQual', 'GarageFinish', 'Exterior2nd', 'BsmtQual', 'HouseStyle', 'Neighborhood', 'Exterior1st', 'ExterCond', 'BsmtFinType1', 'Electrical', 'GarageType', 'FireplaceQu', 'SaleType', 'Condition1', 'Functional', 'CentralAir', 'RoofStyle', 'Foundation', 'KitchenQual', 'GarageQual', 'Street', 'BsmtExposure', 'LotConfig', 'BldgType', 'HeatingQC', 'BsmtFinType2', 'Utilities']\n",
      "numeric columns:\n",
      " ['OverallCond', '1stFlrSF', 'GarageCars', 'LowQualFinSF', 'EnclosedPorch', 'MSSubClass', 'LotArea', '3SsnPorch', 'BsmtFinSF2', 'LotFrontage', 'GrLivArea', 'MiscVal', 'TotalBsmtSF', 'BsmtFinSF1', 'Fireplaces', 'BsmtFullBath', 'KitchenAbvGr', 'GarageArea', 'HalfBath', 'BedroomAbvGr', 'OpenPorchSF', 'TotRmsAbvGrd', 'OverallQual', 'FullBath', '2ndFlrSF', 'ScreenPorch', 'PoolArea', 'MasVnrArea', 'BsmtUnfSF', 'MoSold', 'BsmtHalfBath', 'WoodDeckSF']\n"
     ]
    }
   ],
   "source": [
    "ordinal_cols= list(x.columns[x.columns.str.contains('Yr|Year')])\n",
    "print('ordinal/temporal columns:\\n',ordinal_cols)\n",
    "nominal_cols= list(set(x.select_dtypes(include=['object']).columns)- set(ordinal_cols))\n",
    "print('nominal columns:\\n', nominal_cols)\n",
    "numeric_cols= list(set(x.select_dtypes(exclude=['object']).columns)- set(ordinal_cols))\n",
    "print('numeric columns:\\n',numeric_cols)"
   ]
  },
  {
   "cell_type": "code",
   "execution_count": null,
   "metadata": {
    "execution": {
     "iopub.execute_input": "2022-02-22T20:56:09.087807Z",
     "iopub.status.busy": "2022-02-22T20:56:09.086497Z",
     "iopub.status.idle": "2022-02-22T20:56:09.179720Z",
     "shell.execute_reply": "2022-02-22T20:56:09.180305Z",
     "shell.execute_reply.started": "2022-02-22T20:45:27.705301Z"
    },
    "id": "Uiz0hH8iDE6x",
    "papermill": {
     "duration": 0.162183,
     "end_time": "2022-02-22T20:56:09.180462",
     "exception": false,
     "start_time": "2022-02-22T20:56:09.018279",
     "status": "completed"
    },
    "tags": []
   },
   "outputs": [],
   "source": [
    "# Checking unique values\n",
    "x[nominal_cols].describe().transpose()"
   ]
  },
  {
   "cell_type": "code",
   "execution_count": 10,
   "metadata": {
    "colab": {
     "base_uri": "https://localhost:8080/"
    },
    "execution": {
     "iopub.execute_input": "2022-02-22T20:56:09.289914Z",
     "iopub.status.busy": "2022-02-22T20:56:09.288209Z",
     "iopub.status.idle": "2022-02-22T20:56:09.296437Z",
     "shell.execute_reply": "2022-02-22T20:56:09.295897Z",
     "shell.execute_reply.started": "2022-02-22T20:45:27.976028Z"
    },
    "executionInfo": {
     "elapsed": 367,
     "status": "ok",
     "timestamp": 1681870407606,
     "user": {
      "displayName": "Piyush Sharma",
      "userId": "11302676068023863188"
     },
     "user_tz": -330
    },
    "id": "hQGCYBxaDE6y",
    "outputId": "55ea2e1e-e335-4c6a-8d25-cdae8177627b",
    "papermill": {
     "duration": 0.064171,
     "end_time": "2022-02-22T20:56:09.296554",
     "exception": false,
     "start_time": "2022-02-22T20:56:09.232383",
     "status": "completed"
    },
    "tags": []
   },
   "outputs": [
    {
     "data": {
      "text/plain": [
       "((1168, 75), (292, 75), (1168,), (292,))"
      ]
     },
     "execution_count": 10,
     "metadata": {},
     "output_type": "execute_result"
    }
   ],
   "source": [
    "x_train, x_test, y_train, y_test= train_test_split(x,y, test_size=0.20, random_state=0)\n",
    "\n",
    "x_train.shape, x_test.shape, y_train.shape, y_test.shape"
   ]
  },
  {
   "cell_type": "markdown",
   "metadata": {
    "id": "BBKqD0G0DE6y",
    "papermill": {
     "duration": 0.050844,
     "end_time": "2022-02-22T20:56:09.396537",
     "exception": false,
     "start_time": "2022-02-22T20:56:09.345693",
     "status": "completed"
    },
    "tags": []
   },
   "source": [
    "4. Missing Value Imputation\n",
    "\n",
    "Performing simple imputation as the goal of this exercise is to focus on improvement using KerasTuner."
   ]
  },
  {
   "cell_type": "code",
   "execution_count": 11,
   "metadata": {
    "execution": {
     "iopub.execute_input": "2022-02-22T20:56:09.525840Z",
     "iopub.status.busy": "2022-02-22T20:56:09.524735Z",
     "iopub.status.idle": "2022-02-22T20:56:09.530653Z",
     "shell.execute_reply": "2022-02-22T20:56:09.531465Z",
     "shell.execute_reply.started": "2022-02-22T20:45:27.989647Z"
    },
    "executionInfo": {
     "elapsed": 347,
     "status": "ok",
     "timestamp": 1681870425341,
     "user": {
      "displayName": "Piyush Sharma",
      "userId": "11302676068023863188"
     },
     "user_tz": -330
    },
    "id": "_8B0J7HWDE6y",
    "papermill": {
     "duration": 0.084058,
     "end_time": "2022-02-22T20:56:09.531680",
     "exception": false,
     "start_time": "2022-02-22T20:56:09.447622",
     "status": "completed"
    },
    "tags": []
   },
   "outputs": [],
   "source": [
    "def missing_val_imputation(x, ordinal_cols,nominal_cols,numeric_cols):\n",
    "    \n",
    "    for col in ordinal_cols:\n",
    "        x.loc[:,col]= x.loc[:,col].fillna(x.loc[:,col].mean())\n",
    "\n",
    "    x.loc[:,nominal_cols]= x.loc[:,nominal_cols].fillna(\"?\")\n",
    "    \n",
    "    for col in numeric_cols:\n",
    "        x.loc[:,col]= x.loc[:,col].fillna(x.loc[:,col].mean())\n",
    "#         x.loc[:,col]= x.groupby(\"OverallQual\")[col].transform(lambda grp:grp.fillna(np.mean(grp)))\n",
    "\n",
    "    print(\"All missing values are now imputed!\\n\",x.isnull().sum().sort_values(ascending=False))\n",
    "    \n",
    "    return x"
   ]
  },
  {
   "cell_type": "code",
   "execution_count": 12,
   "metadata": {
    "_kg_hide-output": true,
    "colab": {
     "base_uri": "https://localhost:8080/"
    },
    "execution": {
     "iopub.execute_input": "2022-02-22T20:56:09.661953Z",
     "iopub.status.busy": "2022-02-22T20:56:09.660751Z",
     "iopub.status.idle": "2022-02-22T20:56:09.809665Z",
     "shell.execute_reply": "2022-02-22T20:56:09.808996Z",
     "shell.execute_reply.started": "2022-02-22T20:45:28.005308Z"
    },
    "executionInfo": {
     "elapsed": 469,
     "status": "ok",
     "timestamp": 1681870461209,
     "user": {
      "displayName": "Piyush Sharma",
      "userId": "11302676068023863188"
     },
     "user_tz": -330
    },
    "id": "MDpBCkzbDE6z",
    "outputId": "8f2660a0-07d0-4be0-cb30-a35617c2cebd",
    "papermill": {
     "duration": 0.212811,
     "end_time": "2022-02-22T20:56:09.809780",
     "exception": false,
     "start_time": "2022-02-22T20:56:09.596969",
     "status": "completed"
    },
    "tags": []
   },
   "outputs": [
    {
     "name": "stdout",
     "output_type": "stream",
     "text": [
      "All missing values are now imputed!\n",
      " MSSubClass       0\n",
      "GarageType       0\n",
      "Fireplaces       0\n",
      "Functional       0\n",
      "TotRmsAbvGrd     0\n",
      "                ..\n",
      "MasVnrArea       0\n",
      "MasVnrType       0\n",
      "Exterior2nd      0\n",
      "Exterior1st      0\n",
      "SaleCondition    0\n",
      "Length: 75, dtype: int64\n",
      "All missing values are now imputed!\n",
      " MSSubClass       0\n",
      "GarageType       0\n",
      "Fireplaces       0\n",
      "Functional       0\n",
      "TotRmsAbvGrd     0\n",
      "                ..\n",
      "MasVnrArea       0\n",
      "MasVnrType       0\n",
      "Exterior2nd      0\n",
      "Exterior1st      0\n",
      "SaleCondition    0\n",
      "Length: 75, dtype: int64\n"
     ]
    }
   ],
   "source": [
    "x_train= missing_val_imputation(x_train,ordinal_cols,nominal_cols,numeric_cols)\n",
    "x_test= missing_val_imputation(x_test,ordinal_cols,nominal_cols,numeric_cols)"
   ]
  },
  {
   "cell_type": "markdown",
   "metadata": {
    "id": "KEwA-mbEDE6z",
    "papermill": {
     "duration": 0.065606,
     "end_time": "2022-02-22T20:56:09.942210",
     "exception": false,
     "start_time": "2022-02-22T20:56:09.876604",
     "status": "completed"
    },
    "tags": []
   },
   "source": [
    "5. Analysis and treatment of temporal variables\n",
    "\n",
    "Strategy- capture time difference from YearSold"
   ]
  },
  {
   "cell_type": "code",
   "execution_count": 13,
   "metadata": {
    "colab": {
     "base_uri": "https://localhost:8080/"
    },
    "execution": {
     "iopub.execute_input": "2022-02-22T20:56:10.041814Z",
     "iopub.status.busy": "2022-02-22T20:56:10.040835Z",
     "iopub.status.idle": "2022-02-22T20:56:10.105030Z",
     "shell.execute_reply": "2022-02-22T20:56:10.105517Z",
     "shell.execute_reply.started": "2022-02-22T20:45:28.134595Z"
    },
    "executionInfo": {
     "elapsed": 3,
     "status": "ok",
     "timestamp": 1681870464054,
     "user": {
      "displayName": "Piyush Sharma",
      "userId": "11302676068023863188"
     },
     "user_tz": -330
    },
    "id": "rEYo1Kv2DE6z",
    "outputId": "f2f5df2b-51b5-4348-9c4a-3477cd1879e9",
    "papermill": {
     "duration": 0.117774,
     "end_time": "2022-02-22T20:56:10.105648",
     "exception": false,
     "start_time": "2022-02-22T20:56:09.987874",
     "status": "completed"
    },
    "tags": []
   },
   "outputs": [
    {
     "name": "stderr",
     "output_type": "stream",
     "text": [
      "/usr/local/lib/python3.9/dist-packages/sklearn/preprocessing/_encoders.py:868: FutureWarning: `sparse` was renamed to `sparse_output` in version 1.2 and will be removed in 1.4. `sparse_output` is ignored unless you leave `sparse` to its default value.\n",
      "  warnings.warn(\n"
     ]
    },
    {
     "data": {
      "text/plain": [
       "((1168, 283), (292, 283))"
      ]
     },
     "execution_count": 13,
     "metadata": {},
     "output_type": "execute_result"
    }
   ],
   "source": [
    "# Fitting OHE object\n",
    "ohe= OneHotEncoder(handle_unknown='ignore', sparse=False).fit(x_train[nominal_cols]) \n",
    "\n",
    "#Feature Encoding for nominal columns\n",
    "\n",
    "def ohe_transform(x, ohe, nominal_cols):\n",
    "    x_ohe= pd.DataFrame(ohe.transform(x[nominal_cols]))\n",
    "    x_ohe.columns=ohe.get_feature_names_out(nominal_cols)\n",
    "\n",
    "    # prepping x\n",
    "    x=x.drop(nominal_cols, axis=1)\n",
    "    x.reset_index(inplace=True, drop=True)\n",
    "    x= x.merge(x_ohe, left_index=True, right_index=True)\n",
    "    \n",
    "    return x\n",
    "\n",
    "x_train= ohe_transform(x_train, ohe, nominal_cols)\n",
    "x_test= ohe_transform(x_test, ohe, nominal_cols)\n",
    "x_train.shape, x_test.shape"
   ]
  },
  {
   "cell_type": "code",
   "execution_count": 14,
   "metadata": {
    "colab": {
     "base_uri": "https://localhost:8080/"
    },
    "execution": {
     "iopub.execute_input": "2022-02-22T20:56:10.205842Z",
     "iopub.status.busy": "2022-02-22T20:56:10.204711Z",
     "iopub.status.idle": "2022-02-22T20:56:10.235475Z",
     "shell.execute_reply": "2022-02-22T20:56:10.234960Z",
     "shell.execute_reply.started": "2022-02-22T20:45:28.196650Z"
    },
    "executionInfo": {
     "elapsed": 359,
     "status": "ok",
     "timestamp": 1681870481660,
     "user": {
      "displayName": "Piyush Sharma",
      "userId": "11302676068023863188"
     },
     "user_tz": -330
    },
    "id": "xEVqxa4lDE6z",
    "outputId": "a9789e91-c893-44fe-bd7e-c9282852f335",
    "papermill": {
     "duration": 0.085356,
     "end_time": "2022-02-22T20:56:10.235592",
     "exception": false,
     "start_time": "2022-02-22T20:56:10.150236",
     "status": "completed"
    },
    "tags": []
   },
   "outputs": [
    {
     "data": {
      "text/plain": [
       "((1168, 283), (1168, 283), (292, 283), (1168,))"
      ]
     },
     "execution_count": 14,
     "metadata": {},
     "output_type": "execute_result"
    }
   ],
   "source": [
    "# Standard Scaling\n",
    "ss= StandardScaler()\n",
    "x_train_ss= pd.DataFrame(ss.fit_transform(x_train))\n",
    "x_test_ss= pd.DataFrame(ss.transform(x_test))\n",
    "x_train.shape, x_train_ss.shape, x_test_ss.shape, y_train.shape"
   ]
  },
  {
   "cell_type": "markdown",
   "metadata": {
    "id": "N7u2YncIDE6z",
    "papermill": {
     "duration": 0.046445,
     "end_time": "2022-02-22T20:56:10.329363",
     "exception": false,
     "start_time": "2022-02-22T20:56:10.282918",
     "status": "completed"
    },
    "tags": []
   },
   "source": [
    "## Feature Selection"
   ]
  },
  {
   "cell_type": "code",
   "execution_count": 15,
   "metadata": {
    "colab": {
     "base_uri": "https://localhost:8080/"
    },
    "execution": {
     "iopub.execute_input": "2022-02-22T20:56:10.431054Z",
     "iopub.status.busy": "2022-02-22T20:56:10.430232Z",
     "iopub.status.idle": "2022-02-22T20:56:10.758514Z",
     "shell.execute_reply": "2022-02-22T20:56:10.757851Z",
     "shell.execute_reply.started": "2022-02-22T20:45:28.228938Z"
    },
    "executionInfo": {
     "elapsed": 1603,
     "status": "ok",
     "timestamp": 1681870487168,
     "user": {
      "displayName": "Piyush Sharma",
      "userId": "11302676068023863188"
     },
     "user_tz": -330
    },
    "id": "D_me4J9sDE60",
    "outputId": "212b08e3-7d5d-42c5-c00f-fad6d4aba216",
    "papermill": {
     "duration": 0.38329,
     "end_time": "2022-02-22T20:56:10.758638",
     "exception": false,
     "start_time": "2022-02-22T20:56:10.375348",
     "status": "completed"
    },
    "tags": []
   },
   "outputs": [
    {
     "name": "stdout",
     "output_type": "stream",
     "text": [
      "# of total features:  283\n",
      "# of selected features:  258\n"
     ]
    },
    {
     "data": {
      "text/plain": [
       "((1168, 258), (292, 258))"
      ]
     },
     "execution_count": 15,
     "metadata": {},
     "output_type": "execute_result"
    }
   ],
   "source": [
    "from sklearn.linear_model import Lasso\n",
    "from sklearn.feature_selection import SelectFromModel\n",
    "\n",
    "sel= SelectFromModel(Lasso(alpha=0.5, max_iter=3000, tol=0.005, random_state=0, warm_start= False)) # warm_start= True\n",
    "\n",
    "# train the lasso model and select features\n",
    "sel.fit(x_train_ss, y_train)\n",
    "\n",
    "sel.get_support()\n",
    "\n",
    "selected_feats= x_train_ss.columns[(sel.get_support())]\n",
    "\n",
    "# print the stats\n",
    "print(\"# of total features: \",x_train.shape[1])\n",
    "print(\"# of selected features: \",len(selected_feats))\n",
    "# print(\"# of rejected features: \",np.sum(sel.estimator_.coef_==0))\n",
    "# print('Selected features:', selected_feats)\n",
    "\n",
    "x_train_ss= x_train_ss[selected_feats]\n",
    "x_test_ss= x_test_ss[selected_feats]\n",
    "\n",
    "x_train_ss.shape, x_test_ss.shape"
   ]
  },
  {
   "cell_type": "code",
   "execution_count": 25,
   "metadata": {
    "colab": {
     "base_uri": "https://localhost:8080/"
    },
    "execution": {
     "iopub.execute_input": "2022-02-22T20:56:10.875121Z",
     "iopub.status.busy": "2022-02-22T20:56:10.874186Z",
     "iopub.status.idle": "2022-02-22T20:56:23.762552Z",
     "shell.execute_reply": "2022-02-22T20:56:23.763962Z",
     "shell.execute_reply.started": "2022-02-22T20:45:28.435353Z"
    },
    "executionInfo": {
     "elapsed": 13010,
     "status": "ok",
     "timestamp": 1681871119565,
     "user": {
      "displayName": "Piyush Sharma",
      "userId": "11302676068023863188"
     },
     "user_tz": -330
    },
    "id": "2Wv3TomKDE60",
    "outputId": "8f340fcf-3cbc-4484-c779-bd0255e573f3",
    "papermill": {
     "duration": 12.953624,
     "end_time": "2022-02-22T20:56:23.764159",
     "exception": false,
     "start_time": "2022-02-22T20:56:10.810535",
     "status": "completed"
    },
    "tags": []
   },
   "outputs": [
    {
     "name": "stdout",
     "output_type": "stream",
     "text": [
      "Training score: 0.999989953179032\n",
      "Test score: 0.3358969882991998\n",
      "Mean squared error:  67721.45715686152\n"
     ]
    }
   ],
   "source": [
    "# Setting up a baseline model\n",
    "\n",
    "logreg= LogisticRegression(random_state=3, max_iter=150, warm_start=True, n_jobs=-1)\n",
    "\n",
    "logreg.fit(x_train_ss, y_train)\n",
    "\n",
    "y_pred_logreg= logreg.predict(x_test_ss)\n",
    "y_pred_logreg_train= logreg.predict(x_train_ss)\n",
    "\n",
    "print(\"Training score:\",r2_score(y_train, y_pred_logreg_train))\n",
    "# Model Accuracy\n",
    "\n",
    "print(\"Test score:\",r2_score(y_test,y_pred_logreg))\n",
    "print(\"Mean squared error: \",np.sqrt(mean_squared_error(y_test, y_pred_logreg))) \n",
    "\n",
    "# Big time overfitting however our "
   ]
  },
  {
   "cell_type": "markdown",
   "metadata": {
    "id": "yvidlk2gDE60",
    "papermill": {
     "duration": 0.050319,
     "end_time": "2022-02-22T20:56:23.866777",
     "exception": false,
     "start_time": "2022-02-22T20:56:23.816458",
     "status": "completed"
    },
    "tags": []
   },
   "source": [
    "## Implemention of Neural network"
   ]
  },
  {
   "cell_type": "code",
   "execution_count": 26,
   "metadata": {
    "_kg_hide-input": true,
    "_kg_hide-output": true,
    "colab": {
     "base_uri": "https://localhost:8080/"
    },
    "execution": {
     "iopub.execute_input": "2022-02-22T20:56:23.975782Z",
     "iopub.status.busy": "2022-02-22T20:56:23.975079Z",
     "iopub.status.idle": "2022-02-22T20:56:28.241744Z",
     "shell.execute_reply": "2022-02-22T20:56:28.240355Z",
     "shell.execute_reply.started": "2022-02-22T20:45:38.674529Z"
    },
    "executionInfo": {
     "elapsed": 18,
     "status": "ok",
     "timestamp": 1681871119566,
     "user": {
      "displayName": "Piyush Sharma",
      "userId": "11302676068023863188"
     },
     "user_tz": -330
    },
    "id": "yJhoyLG1DE60",
    "outputId": "39ba742a-4f5f-42d8-fe94-9e919374794b",
    "papermill": {
     "duration": 4.323832,
     "end_time": "2022-02-22T20:56:28.241877",
     "exception": false,
     "start_time": "2022-02-22T20:56:23.918045",
     "status": "completed"
    },
    "tags": []
   },
   "outputs": [
    {
     "name": "stdout",
     "output_type": "stream",
     "text": [
      "2.12.0\n"
     ]
    }
   ],
   "source": [
    "import tensorflow as tf\n",
    "from tensorflow import keras\n",
    "from tensorflow.keras import layers, models\n",
    "\n",
    "\n",
    "print(tf.__version__)"
   ]
  },
  {
   "cell_type": "code",
   "execution_count": 27,
   "metadata": {
    "execution": {
     "iopub.execute_input": "2022-02-22T20:56:28.343889Z",
     "iopub.status.busy": "2022-02-22T20:56:28.343018Z",
     "iopub.status.idle": "2022-02-22T20:56:28.347221Z",
     "shell.execute_reply": "2022-02-22T20:56:28.346716Z",
     "shell.execute_reply.started": "2022-02-22T20:45:38.683856Z"
    },
    "executionInfo": {
     "elapsed": 15,
     "status": "ok",
     "timestamp": 1681871119566,
     "user": {
      "displayName": "Piyush Sharma",
      "userId": "11302676068023863188"
     },
     "user_tz": -330
    },
    "id": "edqk5UAVDE61",
    "papermill": {
     "duration": 0.058755,
     "end_time": "2022-02-22T20:56:28.347334",
     "exception": false,
     "start_time": "2022-02-22T20:56:28.288579",
     "status": "completed"
    },
    "tags": []
   },
   "outputs": [],
   "source": [
    "# Building a simple neural network\n",
    "\n",
    "def build_model():\n",
    "    model=keras.Sequential([\n",
    "        layers.Dense(128, activation='relu', input_shape=[len(x_train_ss.keys())]),\n",
    "        layers.Dense(64, activation='relu'),\n",
    "        layers.Dense(32, activation='relu'),\n",
    "        layers.Dense(1)\n",
    "    ])\n",
    "    #No activation is used in the last layer as this is regression\n",
    "    optimizer= tf.keras.optimizers.Adam(0.001)\n",
    "    \n",
    "    model.compile(loss='mse',\n",
    "                 optimizer= optimizer,\n",
    "                 metrics= ['mae', 'mse'])\n",
    "    return model"
   ]
  },
  {
   "cell_type": "code",
   "execution_count": 28,
   "metadata": {
    "colab": {
     "base_uri": "https://localhost:8080/"
    },
    "execution": {
     "iopub.execute_input": "2022-02-22T20:56:28.447014Z",
     "iopub.status.busy": "2022-02-22T20:56:28.446259Z",
     "iopub.status.idle": "2022-02-22T20:56:30.500830Z",
     "shell.execute_reply": "2022-02-22T20:56:30.499250Z",
     "shell.execute_reply.started": "2022-02-22T20:45:38.695487Z"
    },
    "executionInfo": {
     "elapsed": 15,
     "status": "ok",
     "timestamp": 1681871119566,
     "user": {
      "displayName": "Piyush Sharma",
      "userId": "11302676068023863188"
     },
     "user_tz": -330
    },
    "id": "cI_gyvVGDE61",
    "outputId": "ec730300-050a-4aa0-cc6f-904a9399e155",
    "papermill": {
     "duration": 2.10614,
     "end_time": "2022-02-22T20:56:30.500974",
     "exception": false,
     "start_time": "2022-02-22T20:56:28.394834",
     "status": "completed"
    },
    "tags": []
   },
   "outputs": [
    {
     "name": "stdout",
     "output_type": "stream",
     "text": [
      "Model: \"sequential_1\"\n",
      "_________________________________________________________________\n",
      " Layer (type)                Output Shape              Param #   \n",
      "=================================================================\n",
      " dense_4 (Dense)             (None, 128)               33152     \n",
      "                                                                 \n",
      " dense_5 (Dense)             (None, 64)                8256      \n",
      "                                                                 \n",
      " dense_6 (Dense)             (None, 32)                2080      \n",
      "                                                                 \n",
      " dense_7 (Dense)             (None, 1)                 33        \n",
      "                                                                 \n",
      "=================================================================\n",
      "Total params: 43,521\n",
      "Trainable params: 43,521\n",
      "Non-trainable params: 0\n",
      "_________________________________________________________________\n"
     ]
    }
   ],
   "source": [
    "# Build and inspect the model\n",
    "\n",
    "model= build_model()\n",
    "model.summary()"
   ]
  },
  {
   "cell_type": "markdown",
   "metadata": {
    "id": "D4Oj-UmGDE61",
    "papermill": {
     "duration": 0.046177,
     "end_time": "2022-02-22T20:56:30.594456",
     "exception": false,
     "start_time": "2022-02-22T20:56:30.548279",
     "status": "completed"
    },
    "tags": []
   },
   "source": [
    "## Train the model\n",
    "\n",
    "Train the model for 500 epochs, and record the training and validation accuracy in the history object"
   ]
  },
  {
   "cell_type": "code",
   "execution_count": 29,
   "metadata": {
    "colab": {
     "base_uri": "https://localhost:8080/"
    },
    "execution": {
     "iopub.execute_input": "2022-02-22T20:56:30.696260Z",
     "iopub.status.busy": "2022-02-22T20:56:30.695524Z",
     "iopub.status.idle": "2022-02-22T20:56:38.860674Z",
     "shell.execute_reply": "2022-02-22T20:56:38.859858Z",
     "shell.execute_reply.started": "2022-02-22T20:45:38.775182Z"
    },
    "executionInfo": {
     "elapsed": 8917,
     "status": "ok",
     "timestamp": 1681871128473,
     "user": {
      "displayName": "Piyush Sharma",
      "userId": "11302676068023863188"
     },
     "user_tz": -330
    },
    "id": "ZPXTv1WWDE61",
    "outputId": "e37ef252-27c7-4171-8c41-bb74d3941e8b",
    "papermill": {
     "duration": 8.219135,
     "end_time": "2022-02-22T20:56:38.860819",
     "exception": false,
     "start_time": "2022-02-22T20:56:30.641684",
     "status": "completed"
    },
    "tags": []
   },
   "outputs": [
    {
     "name": "stdout",
     "output_type": "stream",
     "text": [
      "Epoch 60: early stopping\n",
      "10/10 [==============================] - 0s 3ms/step - loss: 3663589376.0000 - mae: 29803.6602 - mse: 3663589376.0000\n",
      "Test-set Mean absolute error: 29803.66\n"
     ]
    }
   ],
   "source": [
    "# Setting 'restore_best_weights' as True helps restore model weights from the epoch with the best value of the monitored quantity. If False, the model weights obtained at the last step of training are used.\n",
    "early_stopping_cb = keras.callbacks.EarlyStopping(monitor='val_loss', patience=20, verbose=1, mode='min', restore_best_weights=False)\n",
    "\n",
    "history= model.fit(\n",
    "    x_train_ss, y_train,\n",
    "    epochs=200,\n",
    "    validation_data=(x_test_ss, y_test),\n",
    "    verbose=0, #set verbose=1 for full details at every epoch\n",
    "    callbacks= [early_stopping_cb])\n",
    "\n",
    "loss, mae, mse= model.evaluate(x_test_ss, y_test, verbose=1)\n",
    "\n",
    "print(\"Test-set Mean absolute error: {:5.2f}\".format(mae)) # test mae- 36286"
   ]
  },
  {
   "cell_type": "code",
   "execution_count": 30,
   "metadata": {
    "colab": {
     "base_uri": "https://localhost:8080/",
     "height": 460
    },
    "execution": {
     "iopub.execute_input": "2022-02-22T20:56:38.973009Z",
     "iopub.status.busy": "2022-02-22T20:56:38.966546Z",
     "iopub.status.idle": "2022-02-22T20:56:39.517387Z",
     "shell.execute_reply": "2022-02-22T20:56:39.516647Z",
     "shell.execute_reply.started": "2022-02-22T20:45:44.200276Z"
    },
    "executionInfo": {
     "elapsed": 1874,
     "status": "ok",
     "timestamp": 1681871130333,
     "user": {
      "displayName": "Piyush Sharma",
      "userId": "11302676068023863188"
     },
     "user_tz": -330
    },
    "id": "YXJwq4QoDE61",
    "outputId": "d028d325-30f9-48f1-e9f2-a5a39c3a6b3f",
    "papermill": {
     "duration": 0.608464,
     "end_time": "2022-02-22T20:56:39.517541",
     "exception": false,
     "start_time": "2022-02-22T20:56:38.909077",
     "status": "completed"
    },
    "tags": []
   },
   "outputs": [
    {
     "data": {
      "text/plain": [
       "Text(0.5, 1.0, 'Train - MAE')"
      ]
     },
     "execution_count": 30,
     "metadata": {},
     "output_type": "execute_result"
    },
    {
     "data": {
      "image/png": "[encoded data removed]",
      "text/plain": [
       "<Figure size 1000x1000 with 2 Axes>"
      ]
     },
     "metadata": {},
     "output_type": "display_data"
    }
   ],
   "source": [
    "plt.figure(figsize=(10,10))\n",
    "\n",
    "plt.subplot(2,2,1)\n",
    "plt.plot(history.history['loss'], label='loss')\n",
    "plt.plot(history.history['val_loss'], label='Validation Loss')\n",
    "plt.legend()\n",
    "plt.title('Training - Loss Function')\n",
    "\n",
    "plt.subplot(2, 2, 2)\n",
    "plt.plot(history.history['mae'], label='Mean absolute error')\n",
    "plt.plot(history.history['val_mae'], label='Validation mean absolute error')\n",
    "plt.legend()\n",
    "plt.title('Train - MAE')"
   ]
  },
  {
   "cell_type": "markdown",
   "metadata": {
    "id": "ytwAB9nfDE61",
    "papermill": {
     "duration": 0.060311,
     "end_time": "2022-02-22T20:56:39.639527",
     "exception": false,
     "start_time": "2022-02-22T20:56:39.579216",
     "status": "completed"
    },
    "tags": []
   },
   "source": [
    "Visualize the model's training progress using the stats stored in the history object"
   ]
  },
  {
   "cell_type": "code",
   "execution_count": 31,
   "metadata": {
    "colab": {
     "base_uri": "https://localhost:8080/",
     "height": 481
    },
    "execution": {
     "iopub.execute_input": "2022-02-22T20:56:39.747196Z",
     "iopub.status.busy": "2022-02-22T20:56:39.746318Z",
     "iopub.status.idle": "2022-02-22T20:56:40.249705Z",
     "shell.execute_reply": "2022-02-22T20:56:40.249020Z",
     "shell.execute_reply.started": "2022-02-22T20:45:44.684218Z"
    },
    "executionInfo": {
     "elapsed": 2239,
     "status": "ok",
     "timestamp": 1681871138543,
     "user": {
      "displayName": "Piyush Sharma",
      "userId": "11302676068023863188"
     },
     "user_tz": -330
    },
    "id": "amOkm8P2DE62",
    "jupyter": {
     "source_hidden": true
    },
    "outputId": "05c74f6c-9bcb-41bb-9a5f-ac7cccce7af1",
    "papermill": {
     "duration": 0.559918,
     "end_time": "2022-02-22T20:56:40.249823",
     "exception": false,
     "start_time": "2022-02-22T20:56:39.689905",
     "status": "completed"
    },
    "tags": []
   },
   "outputs": [
    {
     "name": "stdout",
     "output_type": "stream",
     "text": [
      "10/10 [==============================] - 0s 4ms/step\n"
     ]
    },
    {
     "data": {
      "image/png": "[encoded data removed]",
      "text/plain": [
       "<Figure size 640x480 with 1 Axes>"
      ]
     },
     "metadata": {},
     "output_type": "display_data"
    }
   ],
   "source": [
    "y_pred_test= model.predict(x_test_ss).flatten()\n",
    "\n",
    "# a = plt.axes(aspect='equal')\n",
    "plt.scatter(y_test, y_pred_test)\n",
    "plt.xlabel('True Values [SalesPrice]')\n",
    "plt.ylabel('Predictions [SalesPrice]')\n",
    "\n",
    "lims=[0, max(y_test)]\n",
    "plt.xlim(lims)\n",
    "plt.ylim(lims)\n",
    "_ = plt.plot(lims, lims)"
   ]
  },
  {
   "cell_type": "markdown",
   "metadata": {
    "id": "cGeQ0DqtDE62",
    "papermill": {
     "duration": 0.050587,
     "end_time": "2022-02-22T20:56:40.351185",
     "exception": false,
     "start_time": "2022-02-22T20:56:40.300598",
     "status": "completed"
    },
    "tags": []
   },
   "source": [
    "#### It looks like our model predicts reasonably well. Let's take a look at the error distribution."
   ]
  },
  {
   "cell_type": "code",
   "execution_count": 32,
   "metadata": {
    "colab": {
     "base_uri": "https://localhost:8080/",
     "height": 464
    },
    "execution": {
     "iopub.execute_input": "2022-02-22T20:56:40.465166Z",
     "iopub.status.busy": "2022-02-22T20:56:40.464063Z",
     "iopub.status.idle": "2022-02-22T20:56:40.762822Z",
     "shell.execute_reply": "2022-02-22T20:56:40.763297Z",
     "shell.execute_reply.started": "2022-02-22T20:45:45.090709Z"
    },
    "executionInfo": {
     "elapsed": 1571,
     "status": "ok",
     "timestamp": 1681871142862,
     "user": {
      "displayName": "Piyush Sharma",
      "userId": "11302676068023863188"
     },
     "user_tz": -330
    },
    "id": "0t5EFAChDE62",
    "jupyter": {
     "source_hidden": true
    },
    "outputId": "32212dfe-3e7c-4ea5-8530-d58ec71cb2b4",
    "papermill": {
     "duration": 0.362298,
     "end_time": "2022-02-22T20:56:40.763464",
     "exception": false,
     "start_time": "2022-02-22T20:56:40.401166",
     "status": "completed"
    },
    "tags": []
   },
   "outputs": [
    {
     "data": {
      "image/png": "[encoded data removed]",
      "text/plain": [
       "<Figure size 640x480 with 1 Axes>"
      ]
     },
     "metadata": {},
     "output_type": "display_data"
    }
   ],
   "source": [
    "error= y_pred_test-y_test\n",
    "plt.hist(error, bins=25)\n",
    "plt.xlabel('Prediction Error [SalesPrice]')\n",
    "_=plt.ylabel('Count')"
   ]
  },
  {
   "cell_type": "markdown",
   "metadata": {
    "id": "piqfN9LhDE62",
    "papermill": {
     "duration": 0.05463,
     "end_time": "2022-02-22T20:56:40.872767",
     "exception": false,
     "start_time": "2022-02-22T20:56:40.818137",
     "status": "completed"
    },
    "tags": []
   },
   "source": [
    "#### It's not quite gaussian, but we might expect that because the number of samples is very small."
   ]
  },
  {
   "cell_type": "code",
   "execution_count": 33,
   "metadata": {
    "colab": {
     "base_uri": "https://localhost:8080/"
    },
    "execution": {
     "iopub.execute_input": "2022-02-22T20:56:40.986339Z",
     "iopub.status.busy": "2022-02-22T20:56:40.985463Z",
     "iopub.status.idle": "2022-02-22T20:56:41.166849Z",
     "shell.execute_reply": "2022-02-22T20:56:41.165981Z",
     "shell.execute_reply.started": "2022-02-22T20:45:45.349477Z"
    },
    "executionInfo": {
     "elapsed": 3,
     "status": "ok",
     "timestamp": 1681871143919,
     "user": {
      "displayName": "Piyush Sharma",
      "userId": "11302676068023863188"
     },
     "user_tz": -330
    },
    "id": "HYRpbC-GDE62",
    "outputId": "10684129-fe3d-47f2-9b90-cec4e14db249",
    "papermill": {
     "duration": 0.240883,
     "end_time": "2022-02-22T20:56:41.166973",
     "exception": false,
     "start_time": "2022-02-22T20:56:40.926090",
     "status": "completed"
    },
    "tags": []
   },
   "outputs": [
    {
     "name": "stdout",
     "output_type": "stream",
     "text": [
      "37/37 [==============================] - 0s 2ms/step\n",
      "Accuracy obtained using x_train and x_val sets from the original x!\n",
      "Training accuracy:  0.9411143284110148\n",
      "Test accuracy:  0.4694947649204918\n",
      "Test mean-squared error:  60527.59336515474\n"
     ]
    }
   ],
   "source": [
    "# Accuracy metrics :\n",
    "\n",
    "y_pred_train= model.predict(x_train_ss).flatten()\n",
    "\n",
    "print(\"Accuracy obtained using x_train and x_val sets from the original x!\")\n",
    "\n",
    "print(\"Training accuracy: \",r2_score(y_train, y_pred_train))\n",
    "\n",
    "print(\"Test accuracy: \",r2_score(y_test, y_pred_test))\n",
    "\n",
    "print(\"Test mean-squared error: \",np.sqrt(mean_squared_error(y_test, y_pred_test)))\n",
    "\n",
    "#Hence the current test accuracy is 0.48385 and Test MSE is 59703.04\n",
    "# Note- adding a droput layer decreases the accuracy to 0.46"
   ]
  },
  {
   "cell_type": "markdown",
   "metadata": {
    "id": "owIXcOy5DE62",
    "papermill": {
     "duration": 0.050989,
     "end_time": "2022-02-22T20:56:41.376311",
     "exception": false,
     "start_time": "2022-02-22T20:56:41.325322",
     "status": "completed"
    },
    "tags": []
   },
   "source": [
    "### Optimizing Neural networks through KerasTuner\n"
   ]
  },
  {
   "cell_type": "code",
   "execution_count": 35,
   "metadata": {
    "colab": {
     "base_uri": "https://localhost:8080/"
    },
    "executionInfo": {
     "elapsed": 23989,
     "status": "ok",
     "timestamp": 1681871210444,
     "user": {
      "displayName": "Piyush Sharma",
      "userId": "11302676068023863188"
     },
     "user_tz": -330
    },
    "id": "R677WKiyECdF",
    "outputId": "9c231f87-54a2-47eb-b546-38f1293c0f80"
   },
   "outputs": [
    {
     "name": "stdout",
     "output_type": "stream",
     "text": [
      "Looking in indexes: https://pypi.org/simple, https://us-python.pkg.dev/colab-wheels/public/simple/\n",
      "Requirement already satisfied: keras-tuner in /usr/local/lib/python3.9/dist-packages (1.3.5)\n",
      "Requirement already satisfied: packaging in /usr/local/lib/python3.9/dist-packages (from keras-tuner) (23.0)\n",
      "Requirement already satisfied: requests in /usr/local/lib/python3.9/dist-packages (from keras-tuner) (2.27.1)\n",
      "Requirement already satisfied: kt-legacy in /usr/local/lib/python3.9/dist-packages (from keras-tuner) (1.0.5)\n",
      "Requirement already satisfied: certifi>=2017.4.17 in /usr/local/lib/python3.9/dist-packages (from requests->keras-tuner) (2022.12.7)\n",
      "Requirement already satisfied: charset-normalizer~=2.0.0 in /usr/local/lib/python3.9/dist-packages (from requests->keras-tuner) (2.0.12)\n",
      "Requirement already satisfied: idna<4,>=2.5 in /usr/local/lib/python3.9/dist-packages (from requests->keras-tuner) (3.4)\n",
      "Requirement already satisfied: urllib3<1.27,>=1.21.1 in /usr/local/lib/python3.9/dist-packages (from requests->keras-tuner) (1.26.15)\n"
     ]
    }
   ],
   "source": [
    "!pip install keras-tuner"
   ]
  },
  {
   "cell_type": "code",
   "execution_count": 36,
   "metadata": {
    "_kg_hide-input": true,
    "_kg_hide-output": true,
    "colab": {
     "base_uri": "https://localhost:8080/"
    },
    "execution": {
     "iopub.execute_input": "2022-02-22T20:56:41.487011Z",
     "iopub.status.busy": "2022-02-22T20:56:41.486217Z",
     "iopub.status.idle": "2022-02-22T20:56:41.546909Z",
     "shell.execute_reply": "2022-02-22T20:56:41.546245Z",
     "shell.execute_reply.started": "2022-02-22T20:45:45.518386Z"
    },
    "executionInfo": {
     "elapsed": 9,
     "status": "ok",
     "timestamp": 1681871210445,
     "user": {
      "displayName": "Piyush Sharma",
      "userId": "11302676068023863188"
     },
     "user_tz": -330
    },
    "id": "kQHf0riIDE63",
    "outputId": "40ffb174-09d1-4554-bb9a-2e51f51dd4c2",
    "papermill": {
     "duration": 0.118319,
     "end_time": "2022-02-22T20:56:41.547029",
     "exception": false,
     "start_time": "2022-02-22T20:56:41.428710",
     "status": "completed"
    },
    "tags": []
   },
   "outputs": [
    {
     "name": "stderr",
     "output_type": "stream",
     "text": [
      "<ipython-input-36-d95362518485>:1: DeprecationWarning: `import kerastuner` is deprecated, please use `import keras_tuner`.\n",
      "  from kerastuner import HyperModel\n"
     ]
    }
   ],
   "source": [
    "from kerastuner import HyperModel\n",
    "from kerastuner.tuners import RandomSearch, Hyperband\n",
    "import IPython"
   ]
  },
  {
   "cell_type": "markdown",
   "metadata": {
    "id": "8RJErUV8DE63",
    "papermill": {
     "duration": 0.089421,
     "end_time": "2022-02-22T20:56:41.689452",
     "exception": false,
     "start_time": "2022-02-22T20:56:41.600031",
     "status": "completed"
    },
    "tags": []
   },
   "source": [
    "#### 1. Define the model for hypertuning"
   ]
  },
  {
   "cell_type": "code",
   "execution_count": 37,
   "metadata": {
    "execution": {
     "iopub.execute_input": "2022-02-22T20:56:41.811998Z",
     "iopub.status.busy": "2022-02-22T20:56:41.811061Z",
     "iopub.status.idle": "2022-02-22T20:56:41.814002Z",
     "shell.execute_reply": "2022-02-22T20:56:41.814460Z",
     "shell.execute_reply.started": "2022-02-22T20:45:45.524435Z"
    },
    "executionInfo": {
     "elapsed": 365,
     "status": "ok",
     "timestamp": 1681871210804,
     "user": {
      "displayName": "Piyush Sharma",
      "userId": "11302676068023863188"
     },
     "user_tz": -330
    },
    "id": "esHYKoN5DE63",
    "papermill": {
     "duration": 0.071145,
     "end_time": "2022-02-22T20:56:41.814592",
     "exception": false,
     "start_time": "2022-02-22T20:56:41.743447",
     "status": "completed"
    },
    "tags": []
   },
   "outputs": [],
   "source": [
    "class ANNhypermodel(HyperModel):\n",
    "    \n",
    "    def __init__(self, input_shape):\n",
    "        self.input_shape= input_shape\n",
    "        \n",
    "    def build(self, hp):\n",
    "        model= keras.Sequential()\n",
    "        \n",
    "        # Tune the number of units in the first Dense layer\n",
    "        # Defining dense units as a close approx to the original neural network to perform a fair comparision!\n",
    "        \n",
    "        \n",
    "        hp_units_1= hp.Int('units_1', min_value=128, max_value= 160, step=32)\n",
    "        hp_units_2= hp.Int('units_2', min_value=64, max_value= 128, step=32)\n",
    "        hp_units_3= hp.Int('units_3', min_value=32, max_value= 64, step=16)\n",
    "\n",
    "        model.add(keras.layers.Dense(units=hp_units_1, activation='relu', input_shape= self.input_shape))\n",
    "        model.add(keras.layers.Dense(units=hp_units_2, activation='relu'))\n",
    "        model.add(keras.layers.Dense(units=hp_units_3, activation='relu'))\n",
    "        model.add(keras.layers.Dense(1))\n",
    "\n",
    "        # Tune the learning rate for the optimizer \n",
    "        hp_learning_rate=hp.Float('learning_rate', min_value=1e-4, max_value=1e-2, sampling='LOG', default= 0.0005)\n",
    "\n",
    "        model.compile(loss='mse',\n",
    "                    optimizer= keras.optimizers.Adam(learning_rate=hp_learning_rate),\n",
    "                    metrics= ['mae','mse']\n",
    "                     )\n",
    "\n",
    "        return model\n",
    "\n",
    "hypermodel= ANNhypermodel(input_shape= [len(x_train_ss.keys())])"
   ]
  },
  {
   "cell_type": "code",
   "execution_count": 38,
   "metadata": {
    "execution": {
     "iopub.execute_input": "2022-02-22T20:56:42.356850Z",
     "iopub.status.busy": "2022-02-22T20:56:42.355946Z",
     "iopub.status.idle": "2022-02-22T20:56:42.539244Z",
     "shell.execute_reply": "2022-02-22T20:56:42.538363Z",
     "shell.execute_reply.started": "2022-02-22T20:48:30.459842Z"
    },
    "executionInfo": {
     "elapsed": 358,
     "status": "ok",
     "timestamp": 1681871320417,
     "user": {
      "displayName": "Piyush Sharma",
      "userId": "11302676068023863188"
     },
     "user_tz": -330
    },
    "id": "ol3lanJwDE64",
    "papermill": {
     "duration": 0.241169,
     "end_time": "2022-02-22T20:56:42.539410",
     "exception": false,
     "start_time": "2022-02-22T20:56:42.298241",
     "status": "completed"
    },
    "tags": []
   },
   "outputs": [],
   "source": [
    "HYPERBAND_MAX_EPOCHS = 150\n",
    "EXECUTION_PER_TRIAL = 2\n",
    "\n",
    "tuner= Hyperband(hypermodel,\n",
    "                   objective= 'val_mse',\n",
    "                   max_epochs=HYPERBAND_MAX_EPOCHS, #Set 100+ for good results\n",
    "                   executions_per_trial=EXECUTION_PER_TRIAL,\n",
    "                   directory= 'hyperband',\n",
    "                   project_name='houseprices',\n",
    "                   overwrite=True)\n",
    "\n",
    "# tuner.search_space_summary()"
   ]
  },
  {
   "cell_type": "code",
   "execution_count": 39,
   "metadata": {
    "_kg_hide-output": true,
    "colab": {
     "base_uri": "https://localhost:8080/"
    },
    "execution": {
     "iopub.execute_input": "2022-02-22T20:56:42.862627Z",
     "iopub.status.busy": "2022-02-22T20:56:42.859937Z",
     "iopub.status.idle": "2022-02-22T21:15:43.151945Z",
     "shell.execute_reply": "2022-02-22T21:15:43.150909Z",
     "shell.execute_reply.started": "2022-02-22T20:48:32.713124Z"
    },
    "executionInfo": {
     "elapsed": 2190995,
     "status": "ok",
     "timestamp": 1681873515348,
     "user": {
      "displayName": "Piyush Sharma",
      "userId": "11302676068023863188"
     },
     "user_tz": -330
    },
    "id": "kw1qdWZgDE64",
    "jupyter": {
     "outputs_hidden": true
    },
    "outputId": "5426b56c-6eb0-4bce-e407-530a17e22641",
    "papermill": {
     "duration": 1140.354609,
     "end_time": "2022-02-22T21:15:43.152082",
     "exception": false,
     "start_time": "2022-02-22T20:56:42.797473",
     "status": "completed"
    },
    "tags": []
   },
   "outputs": [
    {
     "name": "stdout",
     "output_type": "stream",
     "text": [
      "searching for the best params!\n",
      "2190.58256649971  secs\n"
     ]
    }
   ],
   "source": [
    "print('searching for the best params!')\n",
    "\n",
    "t0= time()\n",
    "tuner.search(x= x_train_ss,\n",
    "             y= y_train,\n",
    "             epochs=100,\n",
    "             batch_size= 64,\n",
    "             validation_data= (x_test_ss, y_test),\n",
    "             verbose=0,\n",
    "             callbacks= []\n",
    "            )\n",
    "print(time()- t0,\" secs\")\n",
    "\n",
    "# Retreive the optimal hyperparameters\n",
    "best_hps= tuner.get_best_hyperparameters(num_trials=1)[0]\n",
    "\n",
    "# Retrieve the best model\n",
    "best_model = tuner.get_best_models(num_models=1)[0]"
   ]
  },
  {
   "cell_type": "code",
   "execution_count": null,
   "metadata": {
    "colab": {
     "base_uri": "https://localhost:8080/"
    },
    "execution": {
     "iopub.execute_input": "2022-02-22T21:15:46.859749Z",
     "iopub.status.busy": "2022-02-22T21:15:46.858314Z",
     "iopub.status.idle": "2022-02-22T21:15:47.212546Z",
     "shell.execute_reply": "2022-02-22T21:15:47.213166Z",
     "shell.execute_reply.started": "2022-02-22T20:48:55.172241Z"
    },
    "executionInfo": {
     "elapsed": 6,
     "status": "ok",
     "timestamp": 1681752184946,
     "user": {
      "displayName": "Piyush Sharma",
      "userId": "11302676068023863188"
     },
     "user_tz": -330
    },
    "id": "HAyFK1FzDE65",
    "outputId": "91396f72-c5c9-4025-ee1d-f3b46aa08a41",
    "papermill": {
     "duration": 2.192702,
     "end_time": "2022-02-22T21:15:47.213341",
     "exception": false,
     "start_time": "2022-02-22T21:15:45.020639",
     "status": "completed"
    },
    "tags": []
   },
   "outputs": [
    {
     "name": "stdout",
     "output_type": "stream",
     "text": [
      "\n",
      "The hyperparameter search is complete. The optimal number of units in the \n",
      "first densely-connected layer is 160,\n",
      "second layer is 128 \n",
      "third layer is 64  \n",
      "\n",
      "and the optimal learning rate for the optimizer\n",
      "is 0.0013653501948374237.\n",
      "\n",
      "[]\n",
      "10/10 [==============================] - 0s 3ms/step - loss: 3288080640.0000 - mae: 30548.4629 - mse: 3288080640.0000\n",
      "loss:3288080640.0 mae: 30548.462890625 mse: 3288080640.0\n"
     ]
    }
   ],
   "source": [
    "print(f\"\"\"\n",
    "The hyperparameter search is complete. The optimal number of units in the \n",
    "first densely-connected layer is {best_hps.get('units_1')},\n",
    "second layer is {best_hps.get('units_2')} \n",
    "third layer is {best_hps.get('units_3')}  \n",
    "\n",
    "and the optimal learning rate for the optimizer\n",
    "is {best_hps.get('learning_rate')}.\n",
    "\"\"\")\n",
    "\n",
    "# Evaluate the best model.\n",
    "print(best_model.metrics_names)\n",
    "loss, mae, mse = best_model.evaluate(x_test_ss, y_test)\n",
    "print(f'loss:{loss} mae: {mae} mse: {mse}')"
   ]
  },
  {
   "cell_type": "code",
   "execution_count": null,
   "metadata": {
    "_kg_hide-output": true,
    "colab": {
     "base_uri": "https://localhost:8080/"
    },
    "execution": {
     "iopub.execute_input": "2022-02-22T21:15:55.487012Z",
     "iopub.status.busy": "2022-02-22T21:15:55.485971Z",
     "iopub.status.idle": "2022-02-22T21:16:01.021847Z",
     "shell.execute_reply": "2022-02-22T21:16:01.020996Z",
     "shell.execute_reply.started": "2022-02-22T20:48:55.630015Z"
    },
    "executionInfo": {
     "elapsed": 9155,
     "status": "ok",
     "timestamp": 1681752194099,
     "user": {
      "displayName": "Piyush Sharma",
      "userId": "11302676068023863188"
     },
     "user_tz": -330
    },
    "id": "438tcPnyDE65",
    "outputId": "72f4db5e-9e77-4924-dffd-4c6ab507624f",
    "papermill": {
     "duration": 7.407041,
     "end_time": "2022-02-22T21:16:01.021989",
     "exception": false,
     "start_time": "2022-02-22T21:15:53.614948",
     "status": "completed"
    },
    "tags": []
   },
   "outputs": [
    {
     "name": "stdout",
     "output_type": "stream",
     "text": [
      "Epoch 47: early stopping\n",
      "\n",
      " Using Early stopping, needed only  47 epochs to converge!\n"
     ]
    }
   ],
   "source": [
    "# Build the model with the optimal hyperparameters and train it on the data\n",
    "tuned_model = tuner.hypermodel.build(best_hps)\n",
    "\n",
    "# Check result using best model\n",
    "t00= time()\n",
    "history_tuned= tuned_model.fit(x_train_ss, y_train, \n",
    "          epochs = 200, \n",
    "          validation_data = (x_test_ss, y_test),\n",
    "          verbose=0,\n",
    "          callbacks= early_stopping_cb)\n",
    "\n",
    "# print(time()- t00,\" secs\")\n",
    "\n",
    "print(\"\\n Using Early stopping, needed only \",len(history_tuned.history['val_mse']),\"epochs to converge!\")"
   ]
  },
  {
   "cell_type": "code",
   "execution_count": null,
   "metadata": {
    "colab": {
     "base_uri": "https://localhost:8080/"
    },
    "execution": {
     "iopub.execute_input": "2022-02-22T21:16:04.816372Z",
     "iopub.status.busy": "2022-02-22T21:16:04.815423Z",
     "iopub.status.idle": "2022-02-22T21:16:05.192627Z",
     "shell.execute_reply": "2022-02-22T21:16:05.190574Z",
     "shell.execute_reply.started": "2022-02-22T20:48:59.581105Z"
    },
    "executionInfo": {
     "elapsed": 3158,
     "status": "ok",
     "timestamp": 1681752197248,
     "user": {
      "displayName": "Piyush Sharma",
      "userId": "11302676068023863188"
     },
     "user_tz": -330
    },
    "id": "jXp-v6dlDE65",
    "outputId": "1bcc8511-f092-4e3e-989b-0b02b0fdb381",
    "papermill": {
     "duration": 2.250232,
     "end_time": "2022-02-22T21:16:05.192789",
     "exception": false,
     "start_time": "2022-02-22T21:16:02.942557",
     "status": "completed"
    },
    "tags": []
   },
   "outputs": [
    {
     "name": "stdout",
     "output_type": "stream",
     "text": [
      "37/37 [==============================] - 0s 1ms/step\n",
      "10/10 [==============================] - 0s 2ms/step\n",
      "Training accuracy:  0.9658177843345666\n",
      "Test accuracy:  0.4691418677165572\n",
      "Test mean-squared error:  60547.72178802943\n"
     ]
    }
   ],
   "source": [
    "y_pred_train_tuned= tuned_model.predict(x_train_ss).flatten()\n",
    "y_pred_test_tuned= tuned_model.predict(x_test_ss).flatten()\n",
    "\n",
    "print(\"Training accuracy: \",r2_score(y_train, y_pred_train_tuned))\n",
    "\n",
    "print(\"Test accuracy: \",r2_score(y_test, y_pred_test_tuned))\n",
    "\n",
    "print(\"Test mean-squared error: \",np.sqrt(mean_squared_error(y_test, y_pred_test_tuned)))"
   ]
  }
 ],
 "metadata": {
  "colab": {
   "provenance": []
  },
  "kernelspec": {
   "display_name": "Python 3 (ipykernel)",
   "language": "python",
   "name": "python3"
  },
  "language_info": {
   "codemirror_mode": {
    "name": "ipython",
    "version": 3
   },
   "file_extension": ".py",
   "mimetype": "text/x-python",
   "name": "python",
   "nbconvert_exporter": "python",
   "pygments_lexer": "ipython3",
   "version": "3.10.8"
  },
  "papermill": {
   "duration": 1247.914867,
   "end_time": "2022-02-22T21:16:50.314105",
   "environment_variables": {},
   "exception": null,
   "input_path": "__notebook__.ipynb",
   "output_path": "__notebook__.ipynb",
   "parameters": {},
   "start_time": "2022-02-22T20:56:02.399238",
   "version": "2.1.0"
  }
 },
 "nbformat": 4,
 "nbformat_minor": 1
}
